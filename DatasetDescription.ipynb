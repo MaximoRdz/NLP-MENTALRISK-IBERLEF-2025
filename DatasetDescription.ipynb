{
 "cells": [
  {
   "cell_type": "markdown",
   "metadata": {},
   "source": [
    "# Exploratory Data Analysis"
   ]
  },
  {
   "cell_type": "code",
   "execution_count": 45,
   "metadata": {},
   "outputs": [],
   "source": [
    "import json\n",
    "import os\n",
    "import datetime\n",
    "from pathlib import Path\n",
    "import numpy as np\n",
    "import matplotlib.pyplot as plt\n",
    "import pandas as pd\n",
    "\n",
    "\n",
    "data_path = Path(\"data/\")"
   ]
  },
  {
   "cell_type": "markdown",
   "metadata": {},
   "source": [
    "## Task 1"
   ]
  },
  {
   "cell_type": "markdown",
   "metadata": {},
   "source": [
    "### Annotations"
   ]
  },
  {
   "cell_type": "code",
   "execution_count": 18,
   "metadata": {},
   "outputs": [
    {
     "data": {
      "text/html": [
       "<div>\n",
       "<style scoped>\n",
       "    .dataframe tbody tr th:only-of-type {\n",
       "        vertical-align: middle;\n",
       "    }\n",
       "\n",
       "    .dataframe tbody tr th {\n",
       "        vertical-align: top;\n",
       "    }\n",
       "\n",
       "    .dataframe thead th {\n",
       "        text-align: right;\n",
       "    }\n",
       "</style>\n",
       "<table border=\"1\" class=\"dataframe\">\n",
       "  <thead>\n",
       "    <tr style=\"text-align: right;\">\n",
       "      <th></th>\n",
       "      <th>Subject</th>\n",
       "      <th>Risk</th>\n",
       "    </tr>\n",
       "  </thead>\n",
       "  <tbody>\n",
       "    <tr>\n",
       "      <th>0</th>\n",
       "      <td>user1036</td>\n",
       "      <td>1</td>\n",
       "    </tr>\n",
       "    <tr>\n",
       "      <th>1</th>\n",
       "      <td>user1037</td>\n",
       "      <td>1</td>\n",
       "    </tr>\n",
       "    <tr>\n",
       "      <th>2</th>\n",
       "      <td>user1150</td>\n",
       "      <td>1</td>\n",
       "    </tr>\n",
       "    <tr>\n",
       "      <th>3</th>\n",
       "      <td>user124</td>\n",
       "      <td>1</td>\n",
       "    </tr>\n",
       "    <tr>\n",
       "      <th>4</th>\n",
       "      <td>user1301</td>\n",
       "      <td>1</td>\n",
       "    </tr>\n",
       "  </tbody>\n",
       "</table>\n",
       "</div>"
      ],
      "text/plain": [
       "    Subject  Risk\n",
       "0  user1036     1\n",
       "1  user1037     1\n",
       "2  user1150     1\n",
       "3   user124     1\n",
       "4  user1301     1"
      ]
     },
     "execution_count": 18,
     "metadata": {},
     "output_type": "execute_result"
    }
   ],
   "source": [
    "annotation_path = data_path / \"task1\" / \"train\" / \"gold_task1.txt\"\n",
    "df = pd.read_csv(annotation_path)\n",
    "annotation_users = df.Subject.values\n",
    "df.head()"
   ]
  },
  {
   "cell_type": "code",
   "execution_count": 13,
   "metadata": {},
   "outputs": [
    {
     "data": {
      "text/plain": [
       "Subject    object\n",
       "Risk        int64\n",
       "dtype: object"
      ]
     },
     "execution_count": 13,
     "metadata": {},
     "output_type": "execute_result"
    }
   ],
   "source": [
    "df.dtypes"
   ]
  },
  {
   "cell_type": "code",
   "execution_count": 14,
   "metadata": {},
   "outputs": [
    {
     "name": "stdout",
     "output_type": "stream",
     "text": [
      "INFO:\n",
      "INFO: total number of users 350\n",
      "INFO: positive samples 172\n",
      "INFO: negative samples 178\n"
     ]
    },
    {
     "data": {
      "text/html": [
       "<div>\n",
       "<style scoped>\n",
       "    .dataframe tbody tr th:only-of-type {\n",
       "        vertical-align: middle;\n",
       "    }\n",
       "\n",
       "    .dataframe tbody tr th {\n",
       "        vertical-align: top;\n",
       "    }\n",
       "\n",
       "    .dataframe thead th {\n",
       "        text-align: right;\n",
       "    }\n",
       "</style>\n",
       "<table border=\"1\" class=\"dataframe\">\n",
       "  <thead>\n",
       "    <tr style=\"text-align: right;\">\n",
       "      <th></th>\n",
       "      <th>Risk</th>\n",
       "    </tr>\n",
       "  </thead>\n",
       "  <tbody>\n",
       "    <tr>\n",
       "      <th>count</th>\n",
       "      <td>350.000000</td>\n",
       "    </tr>\n",
       "    <tr>\n",
       "      <th>mean</th>\n",
       "      <td>0.491429</td>\n",
       "    </tr>\n",
       "    <tr>\n",
       "      <th>std</th>\n",
       "      <td>0.500642</td>\n",
       "    </tr>\n",
       "    <tr>\n",
       "      <th>min</th>\n",
       "      <td>0.000000</td>\n",
       "    </tr>\n",
       "    <tr>\n",
       "      <th>25%</th>\n",
       "      <td>0.000000</td>\n",
       "    </tr>\n",
       "    <tr>\n",
       "      <th>50%</th>\n",
       "      <td>0.000000</td>\n",
       "    </tr>\n",
       "    <tr>\n",
       "      <th>75%</th>\n",
       "      <td>1.000000</td>\n",
       "    </tr>\n",
       "    <tr>\n",
       "      <th>max</th>\n",
       "      <td>1.000000</td>\n",
       "    </tr>\n",
       "  </tbody>\n",
       "</table>\n",
       "</div>"
      ],
      "text/plain": [
       "             Risk\n",
       "count  350.000000\n",
       "mean     0.491429\n",
       "std      0.500642\n",
       "min      0.000000\n",
       "25%      0.000000\n",
       "50%      0.000000\n",
       "75%      1.000000\n",
       "max      1.000000"
      ]
     },
     "execution_count": 14,
     "metadata": {},
     "output_type": "execute_result"
    }
   ],
   "source": [
    "print(\"INFO:\")\n",
    "print(f\"INFO: total number of users {len(df)}\")\n",
    "print(f\"INFO: positive samples {df.Risk.sum()}\")\n",
    "print(f\"INFO: negative samples {len(df) - df.Risk.sum()}\")\n",
    "df.describe()"
   ]
  },
  {
   "cell_type": "markdown",
   "metadata": {},
   "source": [
    "### Messages"
   ]
  },
  {
   "cell_type": "code",
   "execution_count": 25,
   "metadata": {},
   "outputs": [
    {
     "name": "stdout",
     "output_type": "stream",
     "text": [
      "INFO: number of users with found messages 350\n",
      "INFO: inconsistency between messages users and annotation users: set()\n"
     ]
    }
   ],
   "source": [
    "user_messages_path = data_path / \"task1\" / \"train\" / \"subjects\"\n",
    "user_messages = list(user_messages_path.glob(\"*.json\"))\n",
    "print(f\"INFO: number of users with found messages {len(user_messages)}\")\n",
    "\n",
    "messages_users = [s.name.replace(\".json\", \"\") for s in user_messages]\n",
    "print(f\"INFO: inconsistency between messages users and annotation users: {set(annotation_users) - set(messages_users)}\")\n"
   ]
  },
  {
   "cell_type": "code",
   "execution_count": null,
   "metadata": {},
   "outputs": [
    {
     "data": {
      "text/html": [
       "<div>\n",
       "<style scoped>\n",
       "    .dataframe tbody tr th:only-of-type {\n",
       "        vertical-align: middle;\n",
       "    }\n",
       "\n",
       "    .dataframe tbody tr th {\n",
       "        vertical-align: top;\n",
       "    }\n",
       "\n",
       "    .dataframe thead th {\n",
       "        text-align: right;\n",
       "    }\n",
       "</style>\n",
       "<table border=\"1\" class=\"dataframe\">\n",
       "  <thead>\n",
       "    <tr style=\"text-align: right;\">\n",
       "      <th></th>\n",
       "      <th>id_message</th>\n",
       "      <th>message</th>\n",
       "      <th>platform</th>\n",
       "    </tr>\n",
       "    <tr>\n",
       "      <th>date</th>\n",
       "      <th></th>\n",
       "      <th></th>\n",
       "      <th></th>\n",
       "    </tr>\n",
       "  </thead>\n",
       "  <tbody>\n",
       "    <tr>\n",
       "      <th>2021-04-27 22:30:20+01:00</th>\n",
       "      <td>60951539963</td>\n",
       "      <td>El canal del amigo se llama loco por el trading ?</td>\n",
       "      <td>Telegram</td>\n",
       "    </tr>\n",
       "    <tr>\n",
       "      <th>2021-04-28 00:12:59+01:00</th>\n",
       "      <td>16299019771</td>\n",
       "      <td>Hay vivo hoy ?</td>\n",
       "      <td>Telegram</td>\n",
       "    </tr>\n",
       "    <tr>\n",
       "      <th>2021-04-29 01:11:42+01:00</th>\n",
       "      <td>34554847765</td>\n",
       "      <td>Eos alguien lo vio ?</td>\n",
       "      <td>Telegram</td>\n",
       "    </tr>\n",
       "    <tr>\n",
       "      <th>2021-04-29 02:15:10+01:00</th>\n",
       "      <td>84775152095</td>\n",
       "      <td>A que hora es el vivo ?</td>\n",
       "      <td>Telegram</td>\n",
       "    </tr>\n",
       "    <tr>\n",
       "      <th>2021-04-30 03:13:18+01:00</th>\n",
       "      <td>22627629888</td>\n",
       "      <td>No arranca vet</td>\n",
       "      <td>Telegram</td>\n",
       "    </tr>\n",
       "  </tbody>\n",
       "</table>\n",
       "</div>"
      ],
      "text/plain": [
       "                            id_message  \\\n",
       "date                                     \n",
       "2021-04-27 22:30:20+01:00  60951539963   \n",
       "2021-04-28 00:12:59+01:00  16299019771   \n",
       "2021-04-29 01:11:42+01:00  34554847765   \n",
       "2021-04-29 02:15:10+01:00  84775152095   \n",
       "2021-04-30 03:13:18+01:00  22627629888   \n",
       "\n",
       "                                                                     message  \\\n",
       "date                                                                           \n",
       "2021-04-27 22:30:20+01:00  El canal del amigo se llama loco por el trading ?   \n",
       "2021-04-28 00:12:59+01:00                                     Hay vivo hoy ?   \n",
       "2021-04-29 01:11:42+01:00                               Eos alguien lo vio ?   \n",
       "2021-04-29 02:15:10+01:00                            A que hora es el vivo ?   \n",
       "2021-04-30 03:13:18+01:00                                     No arranca vet   \n",
       "\n",
       "                           platform  \n",
       "date                                 \n",
       "2021-04-27 22:30:20+01:00  Telegram  \n",
       "2021-04-28 00:12:59+01:00  Telegram  \n",
       "2021-04-29 01:11:42+01:00  Telegram  \n",
       "2021-04-29 02:15:10+01:00  Telegram  \n",
       "2021-04-30 03:13:18+01:00  Telegram  "
      ]
     },
     "execution_count": 44,
     "metadata": {},
     "output_type": "execute_result"
    }
   ],
   "source": [
    "with open(user_messages[0], \"r\") as file:\n",
    "    messages = json.load(file)\n",
    "\n",
    "\n",
    "messages_df = pd.DataFrame(messages)\n",
    "messages_df[\"date\"] = pd.to_datetime(messages_df[\"date\"])\n",
    "messages_df.set_index(\"date\", inplace=True)\n",
    "messages_df.head()"
   ]
  },
  {
   "cell_type": "code",
   "execution_count": 70,
   "metadata": {},
   "outputs": [
    {
     "name": "stdout",
     "output_type": "stream",
     "text": [
      "INFO: full dataset shape (22491, 3)\n",
      "INFO: Unique Platforms: ['Telegram' 'Twitch']\n",
      "INFO: Missing Values:\n",
      "id_message    0\n",
      "message       1\n",
      "platform      0\n",
      "dtype: int64\n"
     ]
    }
   ],
   "source": [
    "all_messages = []\n",
    "for user_file in user_messages:\n",
    "    with open(user_file, \"r\") as file:\n",
    "        messages = json.load(file)\n",
    "    \n",
    "    messages_df = pd.DataFrame(messages)\n",
    "    messages_df[\"date\"] = pd.to_datetime(messages_df[\"date\"], format=\"%Y-%m-%d %H:%M:%S%z\")\n",
    "    messages_df[\"user\"] = user_file.name.replace(\".json\", \"\")\n",
    "    all_messages.append(messages_df)\n",
    "\n",
    "all_messages_df = pd.concat(all_messages, ignore_index=True)\n",
    "all_messages_df.set_index(\"date\", inplace=True)\n",
    "print(f\"INFO: full dataset shape {df.shape}\")\n",
    "\n",
    "if \"platform\" in df.columns:\n",
    "    unique_platforms = df[\"platform\"].dropna().unique()\n",
    "    print(\"INFO: Unique Platforms:\", unique_platforms)\n",
    "else:\n",
    "    print(\"No 'platform' column found in dataset.\")\n",
    "\n",
    "nan_summary = df.isnull().sum()\n",
    "\n",
    "print(\"INFO: Missing Values:\")\n",
    "print(nan_summary)"
   ]
  },
  {
   "cell_type": "code",
   "execution_count": 71,
   "metadata": {},
   "outputs": [
    {
     "data": {
      "text/html": [
       "<div>\n",
       "<style scoped>\n",
       "    .dataframe tbody tr th:only-of-type {\n",
       "        vertical-align: middle;\n",
       "    }\n",
       "\n",
       "    .dataframe tbody tr th {\n",
       "        vertical-align: top;\n",
       "    }\n",
       "\n",
       "    .dataframe thead th {\n",
       "        text-align: right;\n",
       "    }\n",
       "</style>\n",
       "<table border=\"1\" class=\"dataframe\">\n",
       "  <thead>\n",
       "    <tr style=\"text-align: right;\">\n",
       "      <th></th>\n",
       "      <th>id_message</th>\n",
       "      <th>message</th>\n",
       "      <th>platform</th>\n",
       "      <th>user</th>\n",
       "    </tr>\n",
       "    <tr>\n",
       "      <th>date</th>\n",
       "      <th></th>\n",
       "      <th></th>\n",
       "      <th></th>\n",
       "      <th></th>\n",
       "    </tr>\n",
       "  </thead>\n",
       "  <tbody>\n",
       "    <tr>\n",
       "      <th>2022-10-08 01:33:29+01:00</th>\n",
       "      <td>82720946231</td>\n",
       "      <td>Buenas , Hoy hay directo ?</td>\n",
       "      <td>Telegram</td>\n",
       "      <td>user9984</td>\n",
       "    </tr>\n",
       "    <tr>\n",
       "      <th>2022-10-08 01:52:36+01:00</th>\n",
       "      <td>79539893868</td>\n",
       "      <td>😈</td>\n",
       "      <td>Telegram</td>\n",
       "      <td>user9984</td>\n",
       "    </tr>\n",
       "    <tr>\n",
       "      <th>2022-10-08 02:16:18+01:00</th>\n",
       "      <td>44449300457</td>\n",
       "      <td>Sip</td>\n",
       "      <td>Telegram</td>\n",
       "      <td>user9984</td>\n",
       "    </tr>\n",
       "    <tr>\n",
       "      <th>2022-10-08 05:57:06+01:00</th>\n",
       "      <td>45268249237</td>\n",
       "      <td>Jaja si es verdad user 7376 la misma con $ 125...</td>\n",
       "      <td>Telegram</td>\n",
       "      <td>user9984</td>\n",
       "    </tr>\n",
       "    <tr>\n",
       "      <th>2022-11-02 19:55:16+01:00</th>\n",
       "      <td>10802100092</td>\n",
       "      <td>Y en cuánto tiempo se estabiliza el mercado ?</td>\n",
       "      <td>Telegram</td>\n",
       "      <td>user9984</td>\n",
       "    </tr>\n",
       "  </tbody>\n",
       "</table>\n",
       "</div>"
      ],
      "text/plain": [
       "                            id_message  \\\n",
       "date                                     \n",
       "2022-10-08 01:33:29+01:00  82720946231   \n",
       "2022-10-08 01:52:36+01:00  79539893868   \n",
       "2022-10-08 02:16:18+01:00  44449300457   \n",
       "2022-10-08 05:57:06+01:00  45268249237   \n",
       "2022-11-02 19:55:16+01:00  10802100092   \n",
       "\n",
       "                                                                     message  \\\n",
       "date                                                                           \n",
       "2022-10-08 01:33:29+01:00                         Buenas , Hoy hay directo ?   \n",
       "2022-10-08 01:52:36+01:00                                                  😈   \n",
       "2022-10-08 02:16:18+01:00                                                Sip   \n",
       "2022-10-08 05:57:06+01:00  Jaja si es verdad user 7376 la misma con $ 125...   \n",
       "2022-11-02 19:55:16+01:00      Y en cuánto tiempo se estabiliza el mercado ?   \n",
       "\n",
       "                           platform      user  \n",
       "date                                           \n",
       "2022-10-08 01:33:29+01:00  Telegram  user9984  \n",
       "2022-10-08 01:52:36+01:00  Telegram  user9984  \n",
       "2022-10-08 02:16:18+01:00  Telegram  user9984  \n",
       "2022-10-08 05:57:06+01:00  Telegram  user9984  \n",
       "2022-11-02 19:55:16+01:00  Telegram  user9984  "
      ]
     },
     "execution_count": 71,
     "metadata": {},
     "output_type": "execute_result"
    }
   ],
   "source": [
    "all_messages_df.tail()"
   ]
  },
  {
   "cell_type": "code",
   "execution_count": 84,
   "metadata": {},
   "outputs": [
    {
     "name": "stdout",
     "output_type": "stream",
     "text": [
      "INFO: total number of messages 22491\n",
      "INFO: number of messages per platform platform\n",
      "Telegram    19573\n",
      "Twitch       2918\n",
      "Name: count, dtype: int64\n"
     ]
    },
    {
     "data": {
      "image/png": "[encoded data removed]",
      "text/plain": [
       "<Figure size 1600x600 with 2 Axes>"
      ]
     },
     "metadata": {},
     "output_type": "display_data"
    }
   ],
   "source": [
    "total_messages = len(all_messages_df)\n",
    "print(f\"INFO: total number of messages {total_messages}\")\n",
    "platform_counts = all_messages_df['platform'].value_counts()\n",
    "print(f\"INFO: number of messages per platform {platform_counts}\")\n",
    "user_counts = all_messages_df['user'].value_counts()\n",
    "\n",
    "fig, axes = plt.subplots(1, 2, figsize=(16, 6))  \n",
    "\n",
    "platform_counts.plot(kind='bar', ax=axes[0])\n",
    "axes[0].set_title('Number of Messages per Platform')\n",
    "axes[0].set_xlabel('Platform')\n",
    "axes[0].set_ylabel('Number of Messages')\n",
    "axes[0].tick_params(axis='x', rotation=45)\n",
    "\n",
    "user_counts.plot(kind='bar', ax=axes[1])\n",
    "axes[1].set_title('Number of Messages per User')\n",
    "axes[1].set_xlabel('User')\n",
    "axes[1].set_ylabel('Number of Messages')\n",
    "axes[1].tick_params(axis='x', rotation=45) \n",
    "\n",
    "N = 50\n",
    "axes[1].set_xticks(axes[1].get_xticks()[::N])\n",
    "plt.tight_layout()\n",
    "plt.show()"
   ]
  },
  {
   "cell_type": "markdown",
   "metadata": {},
   "source": [
    "1. clear unbalance towards Telegram platform messages\n",
    "1. Three observed categories of users:\n",
    "    - messages $<20$\n",
    "    - $20<$ messages $<60$\n",
    "    - messages $<60$"
   ]
  },
  {
   "cell_type": "markdown",
   "metadata": {},
   "source": [
    "TODO:\n",
    "- positives and negatives per platform\n",
    "- positives and negatives per number of messages"
   ]
  },
  {
   "cell_type": "markdown",
   "metadata": {},
   "source": []
  }
 ],
 "metadata": {
  "kernelspec": {
   "display_name": "Python 3",
   "language": "python",
   "name": "python3"
  },
  "language_info": {
   "codemirror_mode": {
    "name": "ipython",
    "version": 3
   },
   "file_extension": ".py",
   "mimetype": "text/x-python",
   "name": "python",
   "nbconvert_exporter": "python",
   "pygments_lexer": "ipython3",
   "version": "3.10.11"
  }
 },
 "nbformat": 4,
 "nbformat_minor": 2
}
