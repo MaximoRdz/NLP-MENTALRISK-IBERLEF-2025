{
 "cells": [
  {
   "cell_type": "markdown",
   "id": "c4ce067f",
   "metadata": {},
   "source": [
    "# Support Vector Machines for text classification"
   ]
  },
  {
   "cell_type": "code",
   "execution_count": 3,
   "id": "d8f14e59",
   "metadata": {},
   "outputs": [],
   "source": [
    "# Required basic imports\n",
    "import numpy as np\n",
    "import matplotlib.pyplot as plt\n",
    "import pandas as pd\n",
    "import json\n",
    "import re\n",
    "import os\n",
    "import string\n",
    "import joblib\n",
    "from pathlib import Path\n",
    "\n",
    "# Imports for tokenizing and vectorizing data\n",
    "from nltk.tokenize import TweetTokenizer\n",
    "from sklearn.feature_extraction.text import TfidfVectorizer\n",
    "\n",
    "# Imports for vectorized data pre-processing and classification models\n",
    "from sklearn.model_selection import train_test_split\n",
    "from sklearn.model_selection import GridSearchCV\n",
    "from sklearn.svm import LinearSVC, SVC\n",
    "from sklearn.ensemble import RandomForestClassifier\n",
    "from sklearn.metrics import classification_report\n",
    "from sklearn.metrics import accuracy_score\n",
    "from imblearn.over_sampling import SMOTE"
   ]
  },
  {
   "cell_type": "markdown",
   "id": "9f47728f",
   "metadata": {},
   "source": [
    "## Data preprocessing"
   ]
  },
  {
   "cell_type": "markdown",
   "id": "9aca9fb5",
   "metadata": {},
   "source": [
    "### First, define auxiliary functions"
   ]
  },
  {
   "cell_type": "code",
   "execution_count": 4,
   "id": "68ddd4e0",
   "metadata": {},
   "outputs": [],
   "source": [
    "def remove_emojis(text: str) -> str:\n",
    "    \"\"\" Removes emojis from the given text \"\"\"\n",
    "    return re.sub(r\"[^\\w\\s,!?@#áéíóúÁÉÍÓÚñÑ]\", \"\", text)\n",
    "\n",
    "def clear_tokens(tokens_list: list) -> None:\n",
    "    \"\"\" Removes punctuation symbols from the given tokens list \"\"\"\n",
    "    # Traverse the list backwards to avoid logic problems with pop() and indexes order\n",
    "    for i in range(len(tokens_list) - 1, -1, -1):\n",
    "        if tokens_list[i] in string.punctuation:\n",
    "            tokens_list.pop(i)\n",
    "    return"
   ]
  },
  {
   "cell_type": "markdown",
   "id": "ea1c0e2e",
   "metadata": {},
   "source": [
    "### Tokenize with TweetTokenizer and vectorize with TF-IDF"
   ]
  },
  {
   "cell_type": "code",
   "execution_count": 5,
   "id": "97a4396d",
   "metadata": {},
   "outputs": [],
   "source": [
    "def tokenize_and_vectorize(data_path: str, \n",
    "                           treat_emojis: bool=False,\n",
    "                           verbose: bool=False) -> tuple:\n",
    "    \"\"\" Tokenizes the messages from all the users and computes vectors from them \"\"\"\n",
    "    path            = Path(data_path)\n",
    "    all_users_data  = []\n",
    "    tokenizer       = TweetTokenizer()\n",
    "    vectorizer      = TfidfVectorizer()\n",
    "    users_order     = [] # List that stores the users in the order that are processed, for merging with the target\n",
    "\n",
    "    # Iterate through the JSON data folder\n",
    "    for element in path.iterdir():\n",
    "        if element.is_file():\n",
    "            user_id = re.findall(pattern=r\"[0-9]+\", string=element.name)[0]\n",
    "            users_order.append(user_id)\n",
    "\n",
    "            # Some execution verbose\n",
    "            if verbose:\n",
    "                print(f\"Tokenizing messages from user: {user_id}\")\n",
    "\n",
    "            # Open and read the current JSON file\n",
    "            with open(data_path + f'/{element.name}') as json_file:\n",
    "                json_data = json.load(fp=json_file)\n",
    "\n",
    "                if treat_emojis:\n",
    "                    # Emojis must be deleted from the messages\n",
    "                    messages = [ remove_emojis(str(record['message'])) for record in json_data ]\n",
    "\n",
    "                else:\n",
    "                    # Preserve emojis in the messages\n",
    "                    messages = [ str(record['message']) for record in json_data ]\n",
    "\n",
    "                # Apply the TweetTokenizer algorithm\n",
    "                tokenized = [ tokenizer.tokenize(m) for m in messages ]\n",
    "\n",
    "                # Remove punctuation symbols tokens\n",
    "                for i, t in enumerate(tokenized):\n",
    "                    clear_tokens(tokens_list=t)\n",
    "\n",
    "                    # If the resulting list is empty, then remove it\n",
    "                    if len(t) == 0:\n",
    "                        tokenized.pop(i)\n",
    "                \n",
    "                # Join the tokens of a single message, since that is what expects the implementation of TF-IDF\n",
    "                user_document = \" \".join(tokenized[0])\n",
    "                for i in range(1, len(tokenized)):\n",
    "                    tokens_joined = \" \".join(tokenized[i])\n",
    "                    user_document += \" \" + tokens_joined\n",
    "            \n",
    "                # Merge the previous data with the current user's\n",
    "                all_users_data.append(user_document)\n",
    "\n",
    "    # Vectorize all the messages with the TF-IDF and return the data as a Pandas DataFrame\n",
    "    X  = vectorizer.fit_transform(all_users_data)\n",
    "    df = pd.DataFrame(X.toarray(), columns=vectorizer.get_feature_names_out())\n",
    "    return df, users_order"
   ]
  },
  {
   "cell_type": "code",
   "execution_count": 6,
   "id": "bf8a73c6",
   "metadata": {},
   "outputs": [
    {
     "name": "stdout",
     "output_type": "stream",
     "text": [
      "    00  000  0000  0000000  00000000000  00000085  00000110  0000014  0000017  \\\n",
      "0  0.0  0.0   0.0      0.0          0.0       0.0       0.0      0.0      0.0   \n",
      "1  0.0  0.0   0.0      0.0          0.0       0.0       0.0      0.0      0.0   \n",
      "2  0.0  0.0   0.0      0.0          0.0       0.0       0.0      0.0      0.0   \n",
      "3  0.0  0.0   0.0      0.0          0.0       0.0       0.0      0.0      0.0   \n",
      "4  0.0  0.0   0.0      0.0          0.0       0.0       0.0      0.0      0.0   \n",
      "\n",
      "   000003  ...  últimamente  últimas  último  últimos   ún  única  únicamente  \\\n",
      "0     0.0  ...          0.0      0.0     0.0      0.0  0.0    0.0         0.0   \n",
      "1     0.0  ...          0.0      0.0     0.0      0.0  0.0    0.0         0.0   \n",
      "2     0.0  ...          0.0      0.0     0.0      0.0  0.0    0.0         0.0   \n",
      "3     0.0  ...          0.0      0.0     0.0      0.0  0.0    0.0         0.0   \n",
      "4     0.0  ...          0.0      0.0     0.0      0.0  0.0    0.0         0.0   \n",
      "\n",
      "   único  únicos  útiles  \n",
      "0    0.0     0.0     0.0  \n",
      "1    0.0     0.0     0.0  \n",
      "2    0.0     0.0     0.0  \n",
      "3    0.0     0.0     0.0  \n",
      "4    0.0     0.0     0.0  \n",
      "\n",
      "[5 rows x 17121 columns]\n",
      "    00  000  0000  0000000  00000000000  00000085  00000110  0000014  0000017  \\\n",
      "0  0.0  0.0   0.0      0.0          0.0       0.0       0.0      0.0      0.0   \n",
      "1  0.0  0.0   0.0      0.0          0.0       0.0       0.0      0.0      0.0   \n",
      "2  0.0  0.0   0.0      0.0          0.0       0.0       0.0      0.0      0.0   \n",
      "3  0.0  0.0   0.0      0.0          0.0       0.0       0.0      0.0      0.0   \n",
      "4  0.0  0.0   0.0      0.0          0.0       0.0       0.0      0.0      0.0   \n",
      "\n",
      "   000003  ...  últimamente  últimas  último  últimos   ún  única  únicamente  \\\n",
      "0     0.0  ...          0.0      0.0     0.0      0.0  0.0    0.0         0.0   \n",
      "1     0.0  ...          0.0      0.0     0.0      0.0  0.0    0.0         0.0   \n",
      "2     0.0  ...          0.0      0.0     0.0      0.0  0.0    0.0         0.0   \n",
      "3     0.0  ...          0.0      0.0     0.0      0.0  0.0    0.0         0.0   \n",
      "4     0.0  ...          0.0      0.0     0.0      0.0  0.0    0.0         0.0   \n",
      "\n",
      "   único  únicos  útiles  \n",
      "0    0.0     0.0     0.0  \n",
      "1    0.0     0.0     0.0  \n",
      "2    0.0     0.0     0.0  \n",
      "3    0.0     0.0     0.0  \n",
      "4    0.0     0.0     0.0  \n",
      "\n",
      "[5 rows x 17121 columns]\n"
     ]
    }
   ],
   "source": [
    "# Get the data from all users\n",
    "data_path_task1                        = os.getcwd() + '/data/task1/train/subjects/'\n",
    "data_path_task2                        = os.getcwd() + '/data/task2/train/subjects/'\n",
    "df_vectorized_task1, users_order_task1 = tokenize_and_vectorize(data_path=data_path_task1, treat_emojis=True, verbose=False)\n",
    "df_vectorized_task2, users_order_task2 = tokenize_and_vectorize(data_path=data_path_task2, treat_emojis=True, verbose=False)\n",
    "\n",
    "# Show the first five elements of each Pandas DataFrae\n",
    "print(df_vectorized_task1.head())\n",
    "print(df_vectorized_task2.head())"
   ]
  },
  {
   "cell_type": "markdown",
   "id": "7aac88f8",
   "metadata": {},
   "source": [
    "### Build the supervised datasets (with the target variable)"
   ]
  },
  {
   "cell_type": "code",
   "execution_count": 7,
   "id": "6d053b72",
   "metadata": {},
   "outputs": [
    {
     "name": "stdout",
     "output_type": "stream",
     "text": [
      "    00  000  0000  0000000  00000000000  00000085  00000110  0000014  0000017  \\\n",
      "0  0.0  0.0   0.0      0.0          0.0       0.0       0.0      0.0      0.0   \n",
      "1  0.0  0.0   0.0      0.0          0.0       0.0       0.0      0.0      0.0   \n",
      "2  0.0  0.0   0.0      0.0          0.0       0.0       0.0      0.0      0.0   \n",
      "3  0.0  0.0   0.0      0.0          0.0       0.0       0.0      0.0      0.0   \n",
      "4  0.0  0.0   0.0      0.0          0.0       0.0       0.0      0.0      0.0   \n",
      "\n",
      "   000003  ...  últimas  último  últimos   ún  única  únicamente  único  \\\n",
      "0     0.0  ...      0.0     0.0      0.0  0.0    0.0         0.0    0.0   \n",
      "1     0.0  ...      0.0     0.0      0.0  0.0    0.0         0.0    0.0   \n",
      "2     0.0  ...      0.0     0.0      0.0  0.0    0.0         0.0    0.0   \n",
      "3     0.0  ...      0.0     0.0      0.0  0.0    0.0         0.0    0.0   \n",
      "4     0.0  ...      0.0     0.0      0.0  0.0    0.0         0.0    0.0   \n",
      "\n",
      "   únicos  útiles  Target  \n",
      "0     0.0     0.0       0  \n",
      "1     0.0     0.0       0  \n",
      "2     0.0     0.0       1  \n",
      "3     0.0     0.0       0  \n",
      "4     0.0     0.0       0  \n",
      "\n",
      "[5 rows x 17122 columns]\n",
      "    00  000  0000  0000000  00000000000  00000085  00000110  0000014  0000017  \\\n",
      "0  0.0  0.0   0.0      0.0          0.0       0.0       0.0      0.0      0.0   \n",
      "1  0.0  0.0   0.0      0.0          0.0       0.0       0.0      0.0      0.0   \n",
      "2  0.0  0.0   0.0      0.0          0.0       0.0       0.0      0.0      0.0   \n",
      "3  0.0  0.0   0.0      0.0          0.0       0.0       0.0      0.0      0.0   \n",
      "4  0.0  0.0   0.0      0.0          0.0       0.0       0.0      0.0      0.0   \n",
      "\n",
      "   000003  ...  últimas  último  últimos   ún  única  únicamente  único  \\\n",
      "0     0.0  ...      0.0     0.0      0.0  0.0    0.0         0.0    0.0   \n",
      "1     0.0  ...      0.0     0.0      0.0  0.0    0.0         0.0    0.0   \n",
      "2     0.0  ...      0.0     0.0      0.0  0.0    0.0         0.0    0.0   \n",
      "3     0.0  ...      0.0     0.0      0.0  0.0    0.0         0.0    0.0   \n",
      "4     0.0  ...      0.0     0.0      0.0  0.0    0.0         0.0    0.0   \n",
      "\n",
      "   únicos  útiles        Target  \n",
      "0     0.0     0.0       betting  \n",
      "1     0.0     0.0       trading  \n",
      "2     0.0     0.0  onlinegaming  \n",
      "3     0.0     0.0       betting  \n",
      "4     0.0     0.0       betting  \n",
      "\n",
      "[5 rows x 17122 columns]\n"
     ]
    }
   ],
   "source": [
    "# Get the data from the target variable\n",
    "target_path_task1 = os.getcwd() + '/data/task1/train/gold_task1.txt'\n",
    "target_path_task2 = os.getcwd() + '/data/task2/train/gold_task2.txt'\n",
    "\n",
    "target_col_task1  = pd.read_csv(filepath_or_buffer=target_path_task1, delimiter=',').to_numpy()\n",
    "users_tags_task1  = { re.findall(r\"[0-9]+\", target_col_task1[i][0])[0]: target_col_task1[i][1] for i in range(len(target_col_task1)) }\n",
    "\n",
    "target_col_task2  = pd.read_csv(filepath_or_buffer=target_path_task2, delimiter=',').to_numpy()\n",
    "users_tags_task2  = { re.findall(r\"[0-9]+\", target_col_task2[i][0])[0]: target_col_task2[i][1] for i in range(len(target_col_task2)) }\n",
    "\n",
    "# Create copies of each dataset\n",
    "df_supervised_task1 = df_vectorized_task1.copy()\n",
    "df_supervised_task2 = df_vectorized_task2.copy()\n",
    "\n",
    "# Create the target column in order and add it to the Pandas DataFrame\n",
    "target_task1 = np.array([ users_tags_task1[user_id] for user_id in users_order_task1 ], np.int8)\n",
    "df_supervised_task1.insert(loc=len(df_supervised_task1.columns), column='Target', value=target_task1)\n",
    "\n",
    "target_task2 = np.array([ users_tags_task2[user_id] for user_id in users_order_task2 ])\n",
    "df_supervised_task2.insert(loc=len(df_supervised_task2.columns), column='Target', value=target_task2)\n",
    "\n",
    "# Show the first five rows of each Pandas DataFrame\n",
    "print(df_supervised_task1.head())\n",
    "print(df_supervised_task2.head())"
   ]
  },
  {
   "cell_type": "markdown",
   "id": "47849504",
   "metadata": {},
   "source": [
    "## Training the baseline model - Task 1"
   ]
  },
  {
   "cell_type": "markdown",
   "id": "ad24c426",
   "metadata": {},
   "source": [
    "### Base model - SVM"
   ]
  },
  {
   "cell_type": "code",
   "execution_count": 8,
   "id": "971deddf",
   "metadata": {},
   "outputs": [
    {
     "name": "stdout",
     "output_type": "stream",
     "text": [
      "SVM accuracy: 0.7\n",
      "              precision    recall  f1-score   support\n",
      "\n",
      "           0       0.68      0.78      0.73        36\n",
      "           1       0.72      0.62      0.67        34\n",
      "\n",
      "    accuracy                           0.70        70\n",
      "   macro avg       0.70      0.70      0.70        70\n",
      "weighted avg       0.70      0.70      0.70        70\n",
      "\n"
     ]
    }
   ],
   "source": [
    "# Perform the train-test split\n",
    "X, y = df_supervised_task1.drop(columns=['Target'], axis=1), df_supervised_task1['Target'].to_numpy()\n",
    "X_train, X_test, y_train, y_test = train_test_split(X, \n",
    "                                                    y, \n",
    "                                                    test_size=0.2, \n",
    "                                                    random_state=42, \n",
    "                                                    stratify=y, \n",
    "                                                    shuffle=True)\n",
    "\n",
    "# Train the SVM\n",
    "clf_svm = LinearSVC()\n",
    "clf_svm.fit(X_train, y_train)\n",
    "\n",
    "# Evaluate with test\n",
    "y_pred = clf_svm.predict(X_test)\n",
    "acc    = accuracy_score(y_true=y_test, y_pred=y_pred)\n",
    "print(f\"SVM accuracy: {round(acc, 2)}\")\n",
    "print(classification_report(y_test, y_pred))"
   ]
  },
  {
   "cell_type": "code",
   "execution_count": 9,
   "id": "395d46e4",
   "metadata": {},
   "outputs": [
    {
     "data": {
      "image/png": "[encoded data removed]",
      "text/plain": [
       "<Figure size 600x600 with 1 Axes>"
      ]
     },
     "metadata": {},
     "output_type": "display_data"
    }
   ],
   "source": [
    "# Plot the predictions over the test set\n",
    "y_correct_indexes, y_incorrect_indexes = np.where(y_pred == y_test), np.where(y_pred != y_test)\n",
    "y_correct, y_incorrect = y_pred[y_correct_indexes], y_pred[y_incorrect_indexes]\n",
    "\n",
    "plt.figure(figsize=(6, 6))\n",
    "plt.title(\"SVM's predictions over the test set\")\n",
    "plt.scatter(range(len(y_test)), y_test, s=25.0, marker='v', label='True labels', zorder=2)\n",
    "plt.scatter(y_correct_indexes, y_correct, s=25.0, label='Correctly prediceted labels', zorder=2, c='green')\n",
    "plt.scatter(y_incorrect_indexes, y_incorrect, s=25.0, label='Incorrectly predicted labels', zorder=2, c='red')\n",
    "plt.xlabel(\"Instance\")\n",
    "plt.ylabel(\"Class\")\n",
    "plt.grid(True)\n",
    "plt.legend()\n",
    "plt.show()"
   ]
  },
  {
   "cell_type": "markdown",
   "id": "99d68c62",
   "metadata": {},
   "source": [
    "### Hyper-parameter search"
   ]
  },
  {
   "cell_type": "code",
   "execution_count": 10,
   "id": "4dde8cc1",
   "metadata": {},
   "outputs": [
    {
     "name": "stdout",
     "output_type": "stream",
     "text": [
      "Fitting 5 folds for each of 40 candidates, totalling 200 fits\n",
      "Best hyper-parameters found:\n",
      "{'C': 3, 'gamma': 'scale', 'kernel': 'rbf'}\n",
      "\n",
      "Best cross validation score:\n",
      "0.6785714285714286\n"
     ]
    }
   ],
   "source": [
    "param_grid_svm = {\n",
    "    'C': [ 0.1, 1, 2, 3, 7 ],\n",
    "    'gamma': [ 'scale', 0.01, 0.001, 0.0001 ],\n",
    "    'kernel': [ 'linear', 'rbf' ]\n",
    "}\n",
    "\n",
    "svc      = SVC()\n",
    "grid_svm = GridSearchCV(svc, param_grid_svm, cv=5, scoring='accuracy', n_jobs=-1, verbose=True)\n",
    "grid_svm.fit(X_train, y_train)\n",
    "\n",
    "# CV results\n",
    "print(\"Best hyper-parameters found:\")\n",
    "print(grid_svm.best_params_)\n",
    "print(\"\\nBest cross validation score:\")\n",
    "print(grid_svm.best_score_)"
   ]
  },
  {
   "cell_type": "code",
   "execution_count": 11,
   "id": "5d2c6aff",
   "metadata": {},
   "outputs": [
    {
     "name": "stdout",
     "output_type": "stream",
     "text": [
      "SVM accuracy: 0.73\n",
      "              precision    recall  f1-score   support\n",
      "\n",
      "           0       0.71      0.81      0.75        36\n",
      "           1       0.76      0.65      0.70        34\n",
      "\n",
      "    accuracy                           0.73        70\n",
      "   macro avg       0.73      0.73      0.73        70\n",
      "weighted avg       0.73      0.73      0.73        70\n",
      "\n"
     ]
    }
   ],
   "source": [
    "# Evaluate with test\n",
    "clf_svm = grid_svm.best_estimator_\n",
    "y_pred  = clf_svm.predict(X_test)\n",
    "acc     = accuracy_score(y_true=y_test, y_pred=y_pred)\n",
    "print(f\"SVM accuracy: {round(acc, 2)}\")\n",
    "print(classification_report(y_test, y_pred))"
   ]
  },
  {
   "cell_type": "markdown",
   "id": "202150eb",
   "metadata": {},
   "source": [
    "### Base model - Random Forest"
   ]
  },
  {
   "cell_type": "code",
   "execution_count": 12,
   "id": "f67b7012",
   "metadata": {},
   "outputs": [
    {
     "name": "stdout",
     "output_type": "stream",
     "text": [
      "RF accuracy: 0.63\n",
      "              precision    recall  f1-score   support\n",
      "\n",
      "           0       0.64      0.64      0.64        36\n",
      "           1       0.62      0.62      0.62        34\n",
      "\n",
      "    accuracy                           0.63        70\n",
      "   macro avg       0.63      0.63      0.63        70\n",
      "weighted avg       0.63      0.63      0.63        70\n",
      "\n"
     ]
    }
   ],
   "source": [
    "# Train the RF\n",
    "clf_rf = RandomForestClassifier(n_estimators=256,\n",
    "                                criterion='entropy',\n",
    "                                max_depth=None,\n",
    "                                random_state=42,\n",
    "                                n_jobs=-1)\n",
    "clf_rf.fit(X_train, y_train)\n",
    "\n",
    "# Evaluate with test\n",
    "y_pred = clf_rf.predict(X_test)\n",
    "acc    = accuracy_score(y_true=y_test, y_pred=y_pred)\n",
    "print(f\"RF accuracy: {round(acc, 2)}\")\n",
    "print(classification_report(y_test, y_pred))"
   ]
  },
  {
   "cell_type": "markdown",
   "id": "e0852575",
   "metadata": {},
   "source": [
    "### Hyper-parameter search"
   ]
  },
  {
   "cell_type": "code",
   "execution_count": 13,
   "id": "bcb39a4d",
   "metadata": {},
   "outputs": [
    {
     "name": "stdout",
     "output_type": "stream",
     "text": [
      "Fitting 5 folds for each of 216 candidates, totalling 1080 fits\n"
     ]
    },
    {
     "data": {
      "text/html": [
       "<style>#sk-container-id-1 {\n",
       "  /* Definition of color scheme common for light and dark mode */\n",
       "  --sklearn-color-text: #000;\n",
       "  --sklearn-color-text-muted: #666;\n",
       "  --sklearn-color-line: gray;\n",
       "  /* Definition of color scheme for unfitted estimators */\n",
       "  --sklearn-color-unfitted-level-0: #fff5e6;\n",
       "  --sklearn-color-unfitted-level-1: #f6e4d2;\n",
       "  --sklearn-color-unfitted-level-2: #ffe0b3;\n",
       "  --sklearn-color-unfitted-level-3: chocolate;\n",
       "  /* Definition of color scheme for fitted estimators */\n",
       "  --sklearn-color-fitted-level-0: #f0f8ff;\n",
       "  --sklearn-color-fitted-level-1: #d4ebff;\n",
       "  --sklearn-color-fitted-level-2: #b3dbfd;\n",
       "  --sklearn-color-fitted-level-3: cornflowerblue;\n",
       "\n",
       "  /* Specific color for light theme */\n",
       "  --sklearn-color-text-on-default-background: var(--sg-text-color, var(--theme-code-foreground, var(--jp-content-font-color1, black)));\n",
       "  --sklearn-color-background: var(--sg-background-color, var(--theme-background, var(--jp-layout-color0, white)));\n",
       "  --sklearn-color-border-box: var(--sg-text-color, var(--theme-code-foreground, var(--jp-content-font-color1, black)));\n",
       "  --sklearn-color-icon: #696969;\n",
       "\n",
       "  @media (prefers-color-scheme: dark) {\n",
       "    /* Redefinition of color scheme for dark theme */\n",
       "    --sklearn-color-text-on-default-background: var(--sg-text-color, var(--theme-code-foreground, var(--jp-content-font-color1, white)));\n",
       "    --sklearn-color-background: var(--sg-background-color, var(--theme-background, var(--jp-layout-color0, #111)));\n",
       "    --sklearn-color-border-box: var(--sg-text-color, var(--theme-code-foreground, var(--jp-content-font-color1, white)));\n",
       "    --sklearn-color-icon: #878787;\n",
       "  }\n",
       "}\n",
       "\n",
       "#sk-container-id-1 {\n",
       "  color: var(--sklearn-color-text);\n",
       "}\n",
       "\n",
       "#sk-container-id-1 pre {\n",
       "  padding: 0;\n",
       "}\n",
       "\n",
       "#sk-container-id-1 input.sk-hidden--visually {\n",
       "  border: 0;\n",
       "  clip: rect(1px 1px 1px 1px);\n",
       "  clip: rect(1px, 1px, 1px, 1px);\n",
       "  height: 1px;\n",
       "  margin: -1px;\n",
       "  overflow: hidden;\n",
       "  padding: 0;\n",
       "  position: absolute;\n",
       "  width: 1px;\n",
       "}\n",
       "\n",
       "#sk-container-id-1 div.sk-dashed-wrapped {\n",
       "  border: 1px dashed var(--sklearn-color-line);\n",
       "  margin: 0 0.4em 0.5em 0.4em;\n",
       "  box-sizing: border-box;\n",
       "  padding-bottom: 0.4em;\n",
       "  background-color: var(--sklearn-color-background);\n",
       "}\n",
       "\n",
       "#sk-container-id-1 div.sk-container {\n",
       "  /* jupyter's `normalize.less` sets `[hidden] { display: none; }`\n",
       "     but bootstrap.min.css set `[hidden] { display: none !important; }`\n",
       "     so we also need the `!important` here to be able to override the\n",
       "     default hidden behavior on the sphinx rendered scikit-learn.org.\n",
       "     See: https://github.com/scikit-learn/scikit-learn/issues/21755 */\n",
       "  display: inline-block !important;\n",
       "  position: relative;\n",
       "}\n",
       "\n",
       "#sk-container-id-1 div.sk-text-repr-fallback {\n",
       "  display: none;\n",
       "}\n",
       "\n",
       "div.sk-parallel-item,\n",
       "div.sk-serial,\n",
       "div.sk-item {\n",
       "  /* draw centered vertical line to link estimators */\n",
       "  background-image: linear-gradient(var(--sklearn-color-text-on-default-background), var(--sklearn-color-text-on-default-background));\n",
       "  background-size: 2px 100%;\n",
       "  background-repeat: no-repeat;\n",
       "  background-position: center center;\n",
       "}\n",
       "\n",
       "/* Parallel-specific style estimator block */\n",
       "\n",
       "#sk-container-id-1 div.sk-parallel-item::after {\n",
       "  content: \"\";\n",
       "  width: 100%;\n",
       "  border-bottom: 2px solid var(--sklearn-color-text-on-default-background);\n",
       "  flex-grow: 1;\n",
       "}\n",
       "\n",
       "#sk-container-id-1 div.sk-parallel {\n",
       "  display: flex;\n",
       "  align-items: stretch;\n",
       "  justify-content: center;\n",
       "  background-color: var(--sklearn-color-background);\n",
       "  position: relative;\n",
       "}\n",
       "\n",
       "#sk-container-id-1 div.sk-parallel-item {\n",
       "  display: flex;\n",
       "  flex-direction: column;\n",
       "}\n",
       "\n",
       "#sk-container-id-1 div.sk-parallel-item:first-child::after {\n",
       "  align-self: flex-end;\n",
       "  width: 50%;\n",
       "}\n",
       "\n",
       "#sk-container-id-1 div.sk-parallel-item:last-child::after {\n",
       "  align-self: flex-start;\n",
       "  width: 50%;\n",
       "}\n",
       "\n",
       "#sk-container-id-1 div.sk-parallel-item:only-child::after {\n",
       "  width: 0;\n",
       "}\n",
       "\n",
       "/* Serial-specific style estimator block */\n",
       "\n",
       "#sk-container-id-1 div.sk-serial {\n",
       "  display: flex;\n",
       "  flex-direction: column;\n",
       "  align-items: center;\n",
       "  background-color: var(--sklearn-color-background);\n",
       "  padding-right: 1em;\n",
       "  padding-left: 1em;\n",
       "}\n",
       "\n",
       "\n",
       "/* Toggleable style: style used for estimator/Pipeline/ColumnTransformer box that is\n",
       "clickable and can be expanded/collapsed.\n",
       "- Pipeline and ColumnTransformer use this feature and define the default style\n",
       "- Estimators will overwrite some part of the style using the `sk-estimator` class\n",
       "*/\n",
       "\n",
       "/* Pipeline and ColumnTransformer style (default) */\n",
       "\n",
       "#sk-container-id-1 div.sk-toggleable {\n",
       "  /* Default theme specific background. It is overwritten whether we have a\n",
       "  specific estimator or a Pipeline/ColumnTransformer */\n",
       "  background-color: var(--sklearn-color-background);\n",
       "}\n",
       "\n",
       "/* Toggleable label */\n",
       "#sk-container-id-1 label.sk-toggleable__label {\n",
       "  cursor: pointer;\n",
       "  display: flex;\n",
       "  width: 100%;\n",
       "  margin-bottom: 0;\n",
       "  padding: 0.5em;\n",
       "  box-sizing: border-box;\n",
       "  text-align: center;\n",
       "  align-items: start;\n",
       "  justify-content: space-between;\n",
       "  gap: 0.5em;\n",
       "}\n",
       "\n",
       "#sk-container-id-1 label.sk-toggleable__label .caption {\n",
       "  font-size: 0.6rem;\n",
       "  font-weight: lighter;\n",
       "  color: var(--sklearn-color-text-muted);\n",
       "}\n",
       "\n",
       "#sk-container-id-1 label.sk-toggleable__label-arrow:before {\n",
       "  /* Arrow on the left of the label */\n",
       "  content: \"▸\";\n",
       "  float: left;\n",
       "  margin-right: 0.25em;\n",
       "  color: var(--sklearn-color-icon);\n",
       "}\n",
       "\n",
       "#sk-container-id-1 label.sk-toggleable__label-arrow:hover:before {\n",
       "  color: var(--sklearn-color-text);\n",
       "}\n",
       "\n",
       "/* Toggleable content - dropdown */\n",
       "\n",
       "#sk-container-id-1 div.sk-toggleable__content {\n",
       "  max-height: 0;\n",
       "  max-width: 0;\n",
       "  overflow: hidden;\n",
       "  text-align: left;\n",
       "  /* unfitted */\n",
       "  background-color: var(--sklearn-color-unfitted-level-0);\n",
       "}\n",
       "\n",
       "#sk-container-id-1 div.sk-toggleable__content.fitted {\n",
       "  /* fitted */\n",
       "  background-color: var(--sklearn-color-fitted-level-0);\n",
       "}\n",
       "\n",
       "#sk-container-id-1 div.sk-toggleable__content pre {\n",
       "  margin: 0.2em;\n",
       "  border-radius: 0.25em;\n",
       "  color: var(--sklearn-color-text);\n",
       "  /* unfitted */\n",
       "  background-color: var(--sklearn-color-unfitted-level-0);\n",
       "}\n",
       "\n",
       "#sk-container-id-1 div.sk-toggleable__content.fitted pre {\n",
       "  /* unfitted */\n",
       "  background-color: var(--sklearn-color-fitted-level-0);\n",
       "}\n",
       "\n",
       "#sk-container-id-1 input.sk-toggleable__control:checked~div.sk-toggleable__content {\n",
       "  /* Expand drop-down */\n",
       "  max-height: 200px;\n",
       "  max-width: 100%;\n",
       "  overflow: auto;\n",
       "}\n",
       "\n",
       "#sk-container-id-1 input.sk-toggleable__control:checked~label.sk-toggleable__label-arrow:before {\n",
       "  content: \"▾\";\n",
       "}\n",
       "\n",
       "/* Pipeline/ColumnTransformer-specific style */\n",
       "\n",
       "#sk-container-id-1 div.sk-label input.sk-toggleable__control:checked~label.sk-toggleable__label {\n",
       "  color: var(--sklearn-color-text);\n",
       "  background-color: var(--sklearn-color-unfitted-level-2);\n",
       "}\n",
       "\n",
       "#sk-container-id-1 div.sk-label.fitted input.sk-toggleable__control:checked~label.sk-toggleable__label {\n",
       "  background-color: var(--sklearn-color-fitted-level-2);\n",
       "}\n",
       "\n",
       "/* Estimator-specific style */\n",
       "\n",
       "/* Colorize estimator box */\n",
       "#sk-container-id-1 div.sk-estimator input.sk-toggleable__control:checked~label.sk-toggleable__label {\n",
       "  /* unfitted */\n",
       "  background-color: var(--sklearn-color-unfitted-level-2);\n",
       "}\n",
       "\n",
       "#sk-container-id-1 div.sk-estimator.fitted input.sk-toggleable__control:checked~label.sk-toggleable__label {\n",
       "  /* fitted */\n",
       "  background-color: var(--sklearn-color-fitted-level-2);\n",
       "}\n",
       "\n",
       "#sk-container-id-1 div.sk-label label.sk-toggleable__label,\n",
       "#sk-container-id-1 div.sk-label label {\n",
       "  /* The background is the default theme color */\n",
       "  color: var(--sklearn-color-text-on-default-background);\n",
       "}\n",
       "\n",
       "/* On hover, darken the color of the background */\n",
       "#sk-container-id-1 div.sk-label:hover label.sk-toggleable__label {\n",
       "  color: var(--sklearn-color-text);\n",
       "  background-color: var(--sklearn-color-unfitted-level-2);\n",
       "}\n",
       "\n",
       "/* Label box, darken color on hover, fitted */\n",
       "#sk-container-id-1 div.sk-label.fitted:hover label.sk-toggleable__label.fitted {\n",
       "  color: var(--sklearn-color-text);\n",
       "  background-color: var(--sklearn-color-fitted-level-2);\n",
       "}\n",
       "\n",
       "/* Estimator label */\n",
       "\n",
       "#sk-container-id-1 div.sk-label label {\n",
       "  font-family: monospace;\n",
       "  font-weight: bold;\n",
       "  display: inline-block;\n",
       "  line-height: 1.2em;\n",
       "}\n",
       "\n",
       "#sk-container-id-1 div.sk-label-container {\n",
       "  text-align: center;\n",
       "}\n",
       "\n",
       "/* Estimator-specific */\n",
       "#sk-container-id-1 div.sk-estimator {\n",
       "  font-family: monospace;\n",
       "  border: 1px dotted var(--sklearn-color-border-box);\n",
       "  border-radius: 0.25em;\n",
       "  box-sizing: border-box;\n",
       "  margin-bottom: 0.5em;\n",
       "  /* unfitted */\n",
       "  background-color: var(--sklearn-color-unfitted-level-0);\n",
       "}\n",
       "\n",
       "#sk-container-id-1 div.sk-estimator.fitted {\n",
       "  /* fitted */\n",
       "  background-color: var(--sklearn-color-fitted-level-0);\n",
       "}\n",
       "\n",
       "/* on hover */\n",
       "#sk-container-id-1 div.sk-estimator:hover {\n",
       "  /* unfitted */\n",
       "  background-color: var(--sklearn-color-unfitted-level-2);\n",
       "}\n",
       "\n",
       "#sk-container-id-1 div.sk-estimator.fitted:hover {\n",
       "  /* fitted */\n",
       "  background-color: var(--sklearn-color-fitted-level-2);\n",
       "}\n",
       "\n",
       "/* Specification for estimator info (e.g. \"i\" and \"?\") */\n",
       "\n",
       "/* Common style for \"i\" and \"?\" */\n",
       "\n",
       ".sk-estimator-doc-link,\n",
       "a:link.sk-estimator-doc-link,\n",
       "a:visited.sk-estimator-doc-link {\n",
       "  float: right;\n",
       "  font-size: smaller;\n",
       "  line-height: 1em;\n",
       "  font-family: monospace;\n",
       "  background-color: var(--sklearn-color-background);\n",
       "  border-radius: 1em;\n",
       "  height: 1em;\n",
       "  width: 1em;\n",
       "  text-decoration: none !important;\n",
       "  margin-left: 0.5em;\n",
       "  text-align: center;\n",
       "  /* unfitted */\n",
       "  border: var(--sklearn-color-unfitted-level-1) 1pt solid;\n",
       "  color: var(--sklearn-color-unfitted-level-1);\n",
       "}\n",
       "\n",
       ".sk-estimator-doc-link.fitted,\n",
       "a:link.sk-estimator-doc-link.fitted,\n",
       "a:visited.sk-estimator-doc-link.fitted {\n",
       "  /* fitted */\n",
       "  border: var(--sklearn-color-fitted-level-1) 1pt solid;\n",
       "  color: var(--sklearn-color-fitted-level-1);\n",
       "}\n",
       "\n",
       "/* On hover */\n",
       "div.sk-estimator:hover .sk-estimator-doc-link:hover,\n",
       ".sk-estimator-doc-link:hover,\n",
       "div.sk-label-container:hover .sk-estimator-doc-link:hover,\n",
       ".sk-estimator-doc-link:hover {\n",
       "  /* unfitted */\n",
       "  background-color: var(--sklearn-color-unfitted-level-3);\n",
       "  color: var(--sklearn-color-background);\n",
       "  text-decoration: none;\n",
       "}\n",
       "\n",
       "div.sk-estimator.fitted:hover .sk-estimator-doc-link.fitted:hover,\n",
       ".sk-estimator-doc-link.fitted:hover,\n",
       "div.sk-label-container:hover .sk-estimator-doc-link.fitted:hover,\n",
       ".sk-estimator-doc-link.fitted:hover {\n",
       "  /* fitted */\n",
       "  background-color: var(--sklearn-color-fitted-level-3);\n",
       "  color: var(--sklearn-color-background);\n",
       "  text-decoration: none;\n",
       "}\n",
       "\n",
       "/* Span, style for the box shown on hovering the info icon */\n",
       ".sk-estimator-doc-link span {\n",
       "  display: none;\n",
       "  z-index: 9999;\n",
       "  position: relative;\n",
       "  font-weight: normal;\n",
       "  right: .2ex;\n",
       "  padding: .5ex;\n",
       "  margin: .5ex;\n",
       "  width: min-content;\n",
       "  min-width: 20ex;\n",
       "  max-width: 50ex;\n",
       "  color: var(--sklearn-color-text);\n",
       "  box-shadow: 2pt 2pt 4pt #999;\n",
       "  /* unfitted */\n",
       "  background: var(--sklearn-color-unfitted-level-0);\n",
       "  border: .5pt solid var(--sklearn-color-unfitted-level-3);\n",
       "}\n",
       "\n",
       ".sk-estimator-doc-link.fitted span {\n",
       "  /* fitted */\n",
       "  background: var(--sklearn-color-fitted-level-0);\n",
       "  border: var(--sklearn-color-fitted-level-3);\n",
       "}\n",
       "\n",
       ".sk-estimator-doc-link:hover span {\n",
       "  display: block;\n",
       "}\n",
       "\n",
       "/* \"?\"-specific style due to the `<a>` HTML tag */\n",
       "\n",
       "#sk-container-id-1 a.estimator_doc_link {\n",
       "  float: right;\n",
       "  font-size: 1rem;\n",
       "  line-height: 1em;\n",
       "  font-family: monospace;\n",
       "  background-color: var(--sklearn-color-background);\n",
       "  border-radius: 1rem;\n",
       "  height: 1rem;\n",
       "  width: 1rem;\n",
       "  text-decoration: none;\n",
       "  /* unfitted */\n",
       "  color: var(--sklearn-color-unfitted-level-1);\n",
       "  border: var(--sklearn-color-unfitted-level-1) 1pt solid;\n",
       "}\n",
       "\n",
       "#sk-container-id-1 a.estimator_doc_link.fitted {\n",
       "  /* fitted */\n",
       "  border: var(--sklearn-color-fitted-level-1) 1pt solid;\n",
       "  color: var(--sklearn-color-fitted-level-1);\n",
       "}\n",
       "\n",
       "/* On hover */\n",
       "#sk-container-id-1 a.estimator_doc_link:hover {\n",
       "  /* unfitted */\n",
       "  background-color: var(--sklearn-color-unfitted-level-3);\n",
       "  color: var(--sklearn-color-background);\n",
       "  text-decoration: none;\n",
       "}\n",
       "\n",
       "#sk-container-id-1 a.estimator_doc_link.fitted:hover {\n",
       "  /* fitted */\n",
       "  background-color: var(--sklearn-color-fitted-level-3);\n",
       "}\n",
       "</style><div id=\"sk-container-id-1\" class=\"sk-top-container\"><div class=\"sk-text-repr-fallback\"><pre>GridSearchCV(cv=5, estimator=RandomForestClassifier(random_state=42), n_jobs=-1,\n",
       "             param_grid={&#x27;bootstrap&#x27;: [True, False],\n",
       "                         &#x27;max_depth&#x27;: [None, 10, 20, 30],\n",
       "                         &#x27;min_samples_leaf&#x27;: [1, 2, 4],\n",
       "                         &#x27;min_samples_split&#x27;: [2, 5, 10],\n",
       "                         &#x27;n_estimators&#x27;: [100, 200, 300]},\n",
       "             scoring=&#x27;accuracy&#x27;, verbose=1)</pre><b>In a Jupyter environment, please rerun this cell to show the HTML representation or trust the notebook. <br />On GitHub, the HTML representation is unable to render, please try loading this page with nbviewer.org.</b></div><div class=\"sk-container\" hidden><div class=\"sk-item sk-dashed-wrapped\"><div class=\"sk-label-container\"><div class=\"sk-label fitted sk-toggleable\"><input class=\"sk-toggleable__control sk-hidden--visually\" id=\"sk-estimator-id-1\" type=\"checkbox\" ><label for=\"sk-estimator-id-1\" class=\"sk-toggleable__label fitted sk-toggleable__label-arrow\"><div><div>GridSearchCV</div></div><div><a class=\"sk-estimator-doc-link fitted\" rel=\"noreferrer\" target=\"_blank\" href=\"https://scikit-learn.org/1.6/modules/generated/sklearn.model_selection.GridSearchCV.html\">?<span>Documentation for GridSearchCV</span></a><span class=\"sk-estimator-doc-link fitted\">i<span>Fitted</span></span></div></label><div class=\"sk-toggleable__content fitted\"><pre>GridSearchCV(cv=5, estimator=RandomForestClassifier(random_state=42), n_jobs=-1,\n",
       "             param_grid={&#x27;bootstrap&#x27;: [True, False],\n",
       "                         &#x27;max_depth&#x27;: [None, 10, 20, 30],\n",
       "                         &#x27;min_samples_leaf&#x27;: [1, 2, 4],\n",
       "                         &#x27;min_samples_split&#x27;: [2, 5, 10],\n",
       "                         &#x27;n_estimators&#x27;: [100, 200, 300]},\n",
       "             scoring=&#x27;accuracy&#x27;, verbose=1)</pre></div> </div></div><div class=\"sk-parallel\"><div class=\"sk-parallel-item\"><div class=\"sk-item\"><div class=\"sk-label-container\"><div class=\"sk-label fitted sk-toggleable\"><input class=\"sk-toggleable__control sk-hidden--visually\" id=\"sk-estimator-id-2\" type=\"checkbox\" ><label for=\"sk-estimator-id-2\" class=\"sk-toggleable__label fitted sk-toggleable__label-arrow\"><div><div>best_estimator_: RandomForestClassifier</div></div></label><div class=\"sk-toggleable__content fitted\"><pre>RandomForestClassifier(bootstrap=False, max_depth=20, min_samples_leaf=4,\n",
       "                       min_samples_split=10, random_state=42)</pre></div> </div></div><div class=\"sk-serial\"><div class=\"sk-item\"><div class=\"sk-estimator fitted sk-toggleable\"><input class=\"sk-toggleable__control sk-hidden--visually\" id=\"sk-estimator-id-3\" type=\"checkbox\" ><label for=\"sk-estimator-id-3\" class=\"sk-toggleable__label fitted sk-toggleable__label-arrow\"><div><div>RandomForestClassifier</div></div><div><a class=\"sk-estimator-doc-link fitted\" rel=\"noreferrer\" target=\"_blank\" href=\"https://scikit-learn.org/1.6/modules/generated/sklearn.ensemble.RandomForestClassifier.html\">?<span>Documentation for RandomForestClassifier</span></a></div></label><div class=\"sk-toggleable__content fitted\"><pre>RandomForestClassifier(bootstrap=False, max_depth=20, min_samples_leaf=4,\n",
       "                       min_samples_split=10, random_state=42)</pre></div> </div></div></div></div></div></div></div></div></div>"
      ],
      "text/plain": [
       "GridSearchCV(cv=5, estimator=RandomForestClassifier(random_state=42), n_jobs=-1,\n",
       "             param_grid={'bootstrap': [True, False],\n",
       "                         'max_depth': [None, 10, 20, 30],\n",
       "                         'min_samples_leaf': [1, 2, 4],\n",
       "                         'min_samples_split': [2, 5, 10],\n",
       "                         'n_estimators': [100, 200, 300]},\n",
       "             scoring='accuracy', verbose=1)"
      ]
     },
     "execution_count": 13,
     "metadata": {},
     "output_type": "execute_result"
    }
   ],
   "source": [
    "param_grid_rf = {\n",
    "    'n_estimators': [100, 200, 300],         # Number of decision trees\n",
    "    'max_depth': [None, 10, 20, 30],         # Max depth of each tree\n",
    "    'min_samples_split': [2, 5, 10],         # Minimum number of samples to split a node\n",
    "    'min_samples_leaf': [1, 2, 4],           # Minimum number of samples to be a leaf node\n",
    "    'bootstrap': [True, False]               # Use bootstrapping\n",
    "}\n",
    "\n",
    "# Define the Random Forest classifier\n",
    "clf_rf  = RandomForestClassifier(random_state=42)\n",
    "\n",
    "grid_rf = GridSearchCV(\n",
    "    estimator=clf_rf,\n",
    "    param_grid=param_grid_rf,\n",
    "    cv=5,  # 5-fold cross validation\n",
    "    scoring='accuracy',\n",
    "    n_jobs=-1,  # use all available cores in the CPU (multithreading)\n",
    "    verbose=1\n",
    ")\n",
    "\n",
    "grid_rf.fit(X_train, y_train)"
   ]
  },
  {
   "cell_type": "markdown",
   "id": "0b893c2d",
   "metadata": {},
   "source": [
    "### Evaluation with test"
   ]
  },
  {
   "cell_type": "code",
   "execution_count": 14,
   "id": "14c9dc22",
   "metadata": {},
   "outputs": [
    {
     "name": "stdout",
     "output_type": "stream",
     "text": [
      "RF accuracy: 0.71\n",
      "              precision    recall  f1-score   support\n",
      "\n",
      "           0       0.71      0.75      0.73        36\n",
      "           1       0.72      0.68      0.70        34\n",
      "\n",
      "    accuracy                           0.71        70\n",
      "   macro avg       0.71      0.71      0.71        70\n",
      "weighted avg       0.71      0.71      0.71        70\n",
      "\n"
     ]
    }
   ],
   "source": [
    "# Evaluate with test\n",
    "clf_rf    = grid_rf.best_estimator_\n",
    "y_pred    = clf_rf.predict(X_test)\n",
    "acc       = accuracy_score(y_true=y_test, y_pred=y_pred)\n",
    "print(f\"RF accuracy: {round(acc, 2)}\")\n",
    "print(classification_report(y_test, y_pred))"
   ]
  },
  {
   "cell_type": "markdown",
   "id": "402375c7",
   "metadata": {},
   "source": [
    "## Training the final model - Task 1"
   ]
  },
  {
   "cell_type": "code",
   "execution_count": 15,
   "id": "0473c8a8",
   "metadata": {},
   "outputs": [
    {
     "name": "stdout",
     "output_type": "stream",
     "text": [
      "Final SVM accuracy: 1.0\n",
      "              precision    recall  f1-score   support\n",
      "\n",
      "           0       1.00      1.00      1.00       178\n",
      "           1       1.00      1.00      1.00       172\n",
      "\n",
      "    accuracy                           1.00       350\n",
      "   macro avg       1.00      1.00      1.00       350\n",
      "weighted avg       1.00      1.00      1.00       350\n",
      "\n"
     ]
    },
    {
     "data": {
      "text/plain": [
       "['/home/pablo/Escritorio/Universidad/NLP/NLP-MENTALRISK-IBERLEF-2025/trained_models/SVM_task1.joblib']"
      ]
     },
     "execution_count": 15,
     "metadata": {},
     "output_type": "execute_result"
    }
   ],
   "source": [
    "# Train with all the available data\n",
    "clf_final = SVC(**grid_svm.best_params_)\n",
    "clf_final.fit(X=X, y=y)\n",
    "\n",
    "# Evaluate the final model (CAUTION: THIS METRICS ARE OPTIMISTIC!!! DO NOT USE THEM TO VALIDATE THE MODEL'S GENERALIZATION)\n",
    "y_pred = clf_final.predict(X)\n",
    "acc    = accuracy_score(y_true=y, y_pred=y_pred)\n",
    "print(f\"Final SVM accuracy: {round(acc, 2)}\")\n",
    "print(classification_report(y_true=y, y_pred=y_pred))\n",
    "\n",
    "# Store the final model in disk\n",
    "joblib.dump(value=clf_final, filename=f'{os.getcwd()}/trained_models/SVM_task1.joblib')"
   ]
  },
  {
   "cell_type": "markdown",
   "id": "349e85c4",
   "metadata": {},
   "source": [
    "## Training the baseline model - Task 2"
   ]
  },
  {
   "cell_type": "markdown",
   "id": "b5962014",
   "metadata": {},
   "source": [
    "### Base model - SVM"
   ]
  },
  {
   "cell_type": "code",
   "execution_count": 16,
   "id": "fb84228d",
   "metadata": {},
   "outputs": [
    {
     "data": {
      "image/png": "[encoded data removed]",
      "text/plain": [
       "<Figure size 600x600 with 1 Axes>"
      ]
     },
     "metadata": {},
     "output_type": "display_data"
    },
    {
     "data": {
      "image/png": "[encoded data removed]",
      "text/plain": [
       "<Figure size 600x600 with 1 Axes>"
      ]
     },
     "metadata": {},
     "output_type": "display_data"
    }
   ],
   "source": [
    "# Perform the train-test split\n",
    "X, y = df_supervised_task2.drop(columns=['Target'], axis=1), df_supervised_task2['Target'].to_numpy()\n",
    "X_train, X_test, y_train, y_test = train_test_split(X, \n",
    "                                                    y, \n",
    "                                                    test_size=0.2, \n",
    "                                                    random_state=42, \n",
    "                                                    stratify=y, \n",
    "                                                    shuffle=True)\n",
    "\n",
    "# Get the unique values of the target variable and its frequencies\n",
    "unique_values, counts = np.unique(y_train, return_counts=True)\n",
    "plt.figure(figsize=(6, 6))\n",
    "plt.title(\"Target variable values and frequencies\")\n",
    "plt.bar(unique_values, counts, edgecolor='black', label='Values absolute frequencies', zorder=2)\n",
    "plt.xlabel(\"Values\")\n",
    "plt.ylabel(\"Frequencies\")\n",
    "plt.grid(True)\n",
    "plt.legend()\n",
    "plt.show()\n",
    "\n",
    "# Apply oversampling with SMOTE into the training set (ONLY!!! TO AVOID DATA LEAKAGE)\n",
    "smote = SMOTE(random_state=42, k_neighbors=5)\n",
    "X_train, y_train = smote.fit_resample(X=X_train, y=y_train)\n",
    "\n",
    "# Get the unique values of the target variable and its frequencies after resampling\n",
    "unique_values, counts = np.unique(y_train, return_counts=True)\n",
    "plt.figure(figsize=(6, 6))\n",
    "plt.title(\"Target variable values and frequencies (SMOTE)\")\n",
    "plt.bar(unique_values, counts, edgecolor='black', label='Values absolute frequencies', zorder=2, color='green')\n",
    "plt.xlabel(\"Values\")\n",
    "plt.ylabel(\"Frequencies\")\n",
    "plt.grid(True)\n",
    "plt.legend()\n",
    "plt.show()"
   ]
  },
  {
   "cell_type": "code",
   "execution_count": 17,
   "id": "60dc0e0d",
   "metadata": {},
   "outputs": [
    {
     "name": "stdout",
     "output_type": "stream",
     "text": [
      "SVM accuracy: 0.96\n",
      "              precision    recall  f1-score   support\n",
      "\n",
      "     betting       1.00      1.00      1.00        17\n",
      "   lootboxes       1.00      0.40      0.57         5\n",
      "onlinegaming       0.88      1.00      0.93        21\n",
      "     trading       1.00      1.00      1.00        27\n",
      "\n",
      "    accuracy                           0.96        70\n",
      "   macro avg       0.97      0.85      0.88        70\n",
      "weighted avg       0.96      0.96      0.95        70\n",
      "\n"
     ]
    }
   ],
   "source": [
    "# Train the SVM\n",
    "clf_svm = LinearSVC()\n",
    "clf_svm.fit(X_train, y_train)\n",
    "\n",
    "# Evaluate with test\n",
    "y_pred = clf_svm.predict(X_test)\n",
    "acc    = accuracy_score(y_true=y_test, y_pred=y_pred)\n",
    "print(f\"SVM accuracy: {round(acc, 2)}\")\n",
    "print(classification_report(y_test, y_pred))"
   ]
  },
  {
   "cell_type": "code",
   "execution_count": 18,
   "id": "10515f63",
   "metadata": {},
   "outputs": [
    {
     "data": {
      "image/png": "[encoded data removed]",
      "text/plain": [
       "<Figure size 600x600 with 1 Axes>"
      ]
     },
     "metadata": {},
     "output_type": "display_data"
    }
   ],
   "source": [
    "# Plot the predictions over the test set\n",
    "y_correct_indexes, y_incorrect_indexes = np.where(y_pred == y_test), np.where(y_pred != y_test)\n",
    "y_correct, y_incorrect = y_pred[y_correct_indexes], y_pred[y_incorrect_indexes]\n",
    "\n",
    "plt.figure(figsize=(6, 6))\n",
    "plt.title(\"SVM's predictions over the test set\")\n",
    "plt.scatter(range(len(y_test)), y_test, s=25.0, marker='v', label='True labels', zorder=2)\n",
    "plt.scatter(y_correct_indexes, y_correct, s=25.0, label='Correctly prediceted labels', zorder=2, c='green')\n",
    "plt.scatter(y_incorrect_indexes, y_incorrect, s=25.0, label='Incorrectly predicted labels', zorder=2, c='red')\n",
    "plt.xlabel(\"Instance\")\n",
    "plt.ylabel(\"Class\")\n",
    "plt.grid(True)\n",
    "plt.legend()\n",
    "plt.show()"
   ]
  },
  {
   "cell_type": "markdown",
   "id": "16188cc3",
   "metadata": {},
   "source": [
    "### Hyper-parameter search"
   ]
  },
  {
   "cell_type": "code",
   "execution_count": 19,
   "id": "620c27b9",
   "metadata": {},
   "outputs": [
    {
     "name": "stdout",
     "output_type": "stream",
     "text": [
      "Fitting 5 folds for each of 40 candidates, totalling 200 fits\n",
      "Best hyper-parameters found:\n",
      "{'C': 1, 'gamma': 'scale', 'kernel': 'linear'}\n",
      "\n",
      "Best cross validation score:\n",
      "0.9953755680299384\n"
     ]
    }
   ],
   "source": [
    "param_grid_svm = {\n",
    "    'C': [ 0.1, 1, 2, 3, 7 ],\n",
    "    'gamma': [ 'scale', 0.01, 0.001, 0.0001 ],\n",
    "    'kernel': [ 'linear', 'rbf' ]\n",
    "}\n",
    "\n",
    "svc      = SVC()\n",
    "grid_svm = GridSearchCV(svc, param_grid_svm, cv=5, scoring='accuracy', n_jobs=-1, verbose=True)\n",
    "grid_svm.fit(X_train, y_train)\n",
    "\n",
    "# CV results\n",
    "print(\"Best hyper-parameters found:\")\n",
    "print(grid_svm.best_params_)\n",
    "print(\"\\nBest cross validation score:\")\n",
    "print(grid_svm.best_score_)"
   ]
  },
  {
   "cell_type": "markdown",
   "id": "8cc2ccd2",
   "metadata": {},
   "source": [
    "### Evaluation with test"
   ]
  },
  {
   "cell_type": "code",
   "execution_count": 20,
   "id": "2366de08",
   "metadata": {},
   "outputs": [
    {
     "name": "stdout",
     "output_type": "stream",
     "text": [
      "RF accuracy: 0.96\n",
      "              precision    recall  f1-score   support\n",
      "\n",
      "     betting       1.00      1.00      1.00        17\n",
      "   lootboxes       1.00      0.40      0.57         5\n",
      "onlinegaming       0.88      1.00      0.93        21\n",
      "     trading       1.00      1.00      1.00        27\n",
      "\n",
      "    accuracy                           0.96        70\n",
      "   macro avg       0.97      0.85      0.88        70\n",
      "weighted avg       0.96      0.96      0.95        70\n",
      "\n"
     ]
    }
   ],
   "source": [
    "# Evaluate with test\n",
    "clf_svm    = grid_svm.best_estimator_\n",
    "y_pred     = clf_svm.predict(X_test)\n",
    "acc       = accuracy_score(y_true=y_test, y_pred=y_pred)\n",
    "print(f\"RF accuracy: {round(acc, 2)}\")\n",
    "print(classification_report(y_test, y_pred))"
   ]
  },
  {
   "cell_type": "markdown",
   "id": "d0a870fc",
   "metadata": {},
   "source": [
    "### Base model - Random Forest"
   ]
  },
  {
   "cell_type": "code",
   "execution_count": 21,
   "id": "2e7c76b3",
   "metadata": {},
   "outputs": [
    {
     "name": "stdout",
     "output_type": "stream",
     "text": [
      "RF accuracy: 0.99\n",
      "              precision    recall  f1-score   support\n",
      "\n",
      "     betting       1.00      1.00      1.00        17\n",
      "   lootboxes       1.00      0.80      0.89         5\n",
      "onlinegaming       0.95      1.00      0.98        21\n",
      "     trading       1.00      1.00      1.00        27\n",
      "\n",
      "    accuracy                           0.99        70\n",
      "   macro avg       0.99      0.95      0.97        70\n",
      "weighted avg       0.99      0.99      0.99        70\n",
      "\n"
     ]
    }
   ],
   "source": [
    "# Train the RF\n",
    "clf_rf = RandomForestClassifier(n_estimators=256,\n",
    "                                criterion='entropy',\n",
    "                                max_depth=None,\n",
    "                                random_state=42,\n",
    "                                n_jobs=-1)\n",
    "clf_rf.fit(X_train, y_train)\n",
    "\n",
    "# Evaluate with test\n",
    "y_pred = clf_rf.predict(X_test)\n",
    "acc    = accuracy_score(y_true=y_test, y_pred=y_pred)\n",
    "print(f\"RF accuracy: {round(acc, 2)}\")\n",
    "print(classification_report(y_test, y_pred))"
   ]
  },
  {
   "cell_type": "code",
   "execution_count": 22,
   "id": "fbbd06dc",
   "metadata": {},
   "outputs": [
    {
     "data": {
      "image/png": "[encoded data removed]",
      "text/plain": [
       "<Figure size 600x600 with 1 Axes>"
      ]
     },
     "metadata": {},
     "output_type": "display_data"
    }
   ],
   "source": [
    "# Plot the predictions over the test set\n",
    "y_correct_indexes, y_incorrect_indexes = np.where(y_pred == y_test), np.where(y_pred != y_test)\n",
    "y_correct, y_incorrect = y_pred[y_correct_indexes], y_pred[y_incorrect_indexes]\n",
    "\n",
    "plt.figure(figsize=(6, 6))\n",
    "plt.title(\"RF's predictions over the test set\")\n",
    "plt.scatter(range(len(y_test)), y_test, s=25.0, marker='v', label='True labels', zorder=2)\n",
    "plt.scatter(y_correct_indexes, y_correct, s=25.0, label='Correctly prediceted labels', zorder=2, c='green')\n",
    "plt.scatter(y_incorrect_indexes, y_incorrect, s=25.0, label='Incorrectly predicted labels', zorder=2, c='red')\n",
    "plt.xlabel(\"Instance\")\n",
    "plt.ylabel(\"Class\")\n",
    "plt.grid(True)\n",
    "plt.legend()\n",
    "plt.show()"
   ]
  },
  {
   "cell_type": "markdown",
   "id": "bb4457ef",
   "metadata": {},
   "source": [
    "### Hyper-parameter search"
   ]
  },
  {
   "cell_type": "code",
   "execution_count": 23,
   "id": "1da51dc0",
   "metadata": {},
   "outputs": [
    {
     "name": "stdout",
     "output_type": "stream",
     "text": [
      "Fitting 3 folds for each of 48 candidates, totalling 144 fits\n",
      "Best hyper-parameters found:\n",
      "{'bootstrap': False, 'max_depth': 20, 'min_samples_leaf': 2, 'min_samples_split': 5, 'n_estimators': 200}\n",
      "\n",
      "Best cross validation score:\n",
      "0.9976851851851851\n"
     ]
    }
   ],
   "source": [
    "param_grid_rf = {\n",
    "    'n_estimators': [100, 200],         # Number of decision trees\n",
    "    'max_depth': [None, 10, 20],        # Max depth of each tree\n",
    "    'min_samples_split': [2, 5],        # Minimum number of samples to split a node\n",
    "    'min_samples_leaf': [1, 2],         # Minimum number of samples to be a leaf node\n",
    "    'bootstrap': [True, False]          # Use bootstrapping\n",
    "}\n",
    "\n",
    "# Define the Random Forest classifier\n",
    "clf_rf  = RandomForestClassifier(random_state=42)\n",
    "\n",
    "grid_rf = GridSearchCV(\n",
    "    estimator=clf_rf,\n",
    "    param_grid=param_grid_rf,\n",
    "    cv=3,  # 3-fold cross validation\n",
    "    scoring='accuracy',\n",
    "    n_jobs=-1,  # use all available cores in the CPU (multithreading)\n",
    "    verbose=1\n",
    ")\n",
    "\n",
    "grid_rf.fit(X_train, y_train)\n",
    "\n",
    "# CV results\n",
    "print(\"Best hyper-parameters found:\")\n",
    "print(grid_rf.best_params_)\n",
    "print(\"\\nBest cross validation score:\")\n",
    "print(grid_rf.best_score_)"
   ]
  },
  {
   "cell_type": "markdown",
   "id": "d755432c",
   "metadata": {},
   "source": [
    "### Evaluation with test"
   ]
  },
  {
   "cell_type": "code",
   "execution_count": 24,
   "id": "e7b0092a",
   "metadata": {},
   "outputs": [
    {
     "name": "stdout",
     "output_type": "stream",
     "text": [
      "RF accuracy: 0.97\n",
      "              precision    recall  f1-score   support\n",
      "\n",
      "     betting       1.00      1.00      1.00        17\n",
      "   lootboxes       1.00      0.60      0.75         5\n",
      "onlinegaming       0.91      1.00      0.95        21\n",
      "     trading       1.00      1.00      1.00        27\n",
      "\n",
      "    accuracy                           0.97        70\n",
      "   macro avg       0.98      0.90      0.93        70\n",
      "weighted avg       0.97      0.97      0.97        70\n",
      "\n"
     ]
    }
   ],
   "source": [
    "# Evaluate with test\n",
    "clf_rf = grid_rf.best_estimator_\n",
    "y_pred = clf_rf.predict(X_test)\n",
    "acc    = accuracy_score(y_true=y_test, y_pred=y_pred)\n",
    "print(f\"RF accuracy: {round(acc, 2)}\")\n",
    "print(classification_report(y_test, y_pred))"
   ]
  },
  {
   "cell_type": "markdown",
   "id": "6a6d3eea",
   "metadata": {},
   "source": [
    "## Training the final model - Task 2"
   ]
  },
  {
   "cell_type": "code",
   "execution_count": 25,
   "id": "583589b8",
   "metadata": {},
   "outputs": [
    {
     "name": "stdout",
     "output_type": "stream",
     "text": [
      "Final RF accuracy: 0.99\n",
      "              precision    recall  f1-score   support\n",
      "\n",
      "     betting       1.00      1.00      1.00        85\n",
      "   lootboxes       1.00      0.85      0.92        26\n",
      "onlinegaming       0.96      1.00      0.98       104\n",
      "     trading       1.00      1.00      1.00       135\n",
      "\n",
      "    accuracy                           0.99       350\n",
      "   macro avg       0.99      0.96      0.97       350\n",
      "weighted avg       0.99      0.99      0.99       350\n",
      "\n"
     ]
    },
    {
     "data": {
      "text/plain": [
       "['/home/pablo/Escritorio/Universidad/NLP/NLP-MENTALRISK-IBERLEF-2025/trained_models/RF_task2.joblib']"
      ]
     },
     "execution_count": 25,
     "metadata": {},
     "output_type": "execute_result"
    }
   ],
   "source": [
    "# Train with all the available data\n",
    "clf_final = RandomForestClassifier(**grid_rf.best_params_)\n",
    "clf_final.fit(X=X, y=y)\n",
    "\n",
    "# Evaluate the final model (CAUTION: THIS METRICS ARE OPTIMISTIC!!! DO NOT USE THEM TO VALIDATE THE MODEL'S GENERALIZATION)\n",
    "y_pred = clf_final.predict(X)\n",
    "acc    = accuracy_score(y_true=y, y_pred=y_pred)\n",
    "print(f\"Final RF accuracy: {round(acc, 2)}\")\n",
    "print(classification_report(y_true=y, y_pred=y_pred))\n",
    "\n",
    "# Store the final model in disk\n",
    "joblib.dump(value=clf_final, filename=f'{os.getcwd()}/trained_models/RF_task2.joblib')"
   ]
  }
 ],
 "metadata": {
  "kernelspec": {
   "display_name": "AI",
   "language": "python",
   "name": "python3"
  },
  "language_info": {
   "codemirror_mode": {
    "name": "ipython",
    "version": 3
   },
   "file_extension": ".py",
   "mimetype": "text/x-python",
   "name": "python",
   "nbconvert_exporter": "python",
   "pygments_lexer": "ipython3",
   "version": "3.12.9"
  }
 },
 "nbformat": 4,
 "nbformat_minor": 5
}
