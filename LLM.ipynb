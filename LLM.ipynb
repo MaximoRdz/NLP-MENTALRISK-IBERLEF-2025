{
  "cells": [
    {
      "cell_type": "markdown",
      "metadata": {
        "id": "2DJN0pXx8W3-"
      },
      "source": [
        "# Install CodeCarbon package\n",
        "Read the [documentation](https://mlco2.github.io/codecarbon/) about the library if necessary. Remember that we provide a [CodeCarbon notebook](https://colab.research.google.com/drive/1boavnGOir0urui8qktbZaOmOV2pS5cn6?usp=sharing) with the example in its specific use in our competition.\n"
      ]
    },
    {
      "cell_type": "code",
      "execution_count": null,
      "metadata": {
        "id": "wdvPWyc6x9cV"
      },
      "outputs": [],
      "source": [
        "!pip install codecarbon\n",
        "!pip install dotenv"
      ]
    },
    {
      "cell_type": "markdown",
      "metadata": {
        "id": "dqyN-7TcXbL8"
      },
      "source": [
        "# Import libraries"
      ]
    },
    {
      "cell_type": "code",
      "execution_count": null,
      "metadata": {
        "id": "Sqih7m6tN4MT"
      },
      "outputs": [],
      "source": [
        "import requests, zipfile, io\n",
        "from requests.adapters import HTTPAdapter, Retry\n",
        "from typing import List, Dict\n",
        "import random\n",
        "import json\n",
        "import os\n",
        "from dotenv import load_dotenv\n",
        "import pandas as pd\n",
        "from codecarbon import EmissionsTracker"
      ]
    },
    {
      "cell_type": "markdown",
      "metadata": {
        "id": "CHGGrr3GXdIb"
      },
      "source": [
        "# Endpoints\n",
        "These URL addresses are necessary for the connection to the server.\n",
        "\n",
        "**IMPORTANT:** Replace \"URL\" by the URL server and \"TOKEN\" by your user token."
      ]
    },
    {
      "cell_type": "code",
      "execution_count": null,
      "metadata": {
        "id": "AdQPl8lbOKsg"
      },
      "outputs": [],
      "source": [
        "load_dotenv()\n",
        "URL = os.getenv(\"SERVER_URL\")\n",
        "TOKEN = os.getenv(\"ACCESS_TOKEN\")\n",
        "print(URL, TOKEN)\n",
        "# Download endpoints\n",
        "ENDPOINT_DOWNLOAD_TRIAL = URL+\"/{TASK}/download_trial/{TOKEN}\"\n",
        "ENDPOINT_DOWNLOAD_TRAIN = URL+\"/{TASK}/download_train/{TOKEN}\"\n",
        "\n",
        "# Trial endpoints\n",
        "ENDPOINT_GET_MESSAGES_TRIAL = URL+\"/{TASK}/getmessages_trial/{TOKEN}\"\n",
        "ENDPOINT_SUBMIT_DECISIONS_TRIAL = URL+\"/{TASK}/submit_trial/{TOKEN}/{RUN}\"\n",
        "\n",
        "# Test endpoints\n",
        "ENDPOINT_GET_MESSAGES = URL+\"/{TASK}/getmessages/{TOKEN}\"\n",
        "ENDPOINT_SUBMIT_DECISIONS = URL+\"/{TASK}/submit/{TOKEN}/{RUN}\""
      ]
    },
    {
      "cell_type": "markdown",
      "metadata": {
        "id": "WgHNiyxHR5AJ"
      },
      "source": [
        "# Download Data\n",
        "To download the data, you can make use of the **function defined in the following**.\n",
        "\n",
        "The following function download the trial data. To adapt it to download the train and test data, follow the instructions given in the [website of the competition](https://sites.google.com/view/mentalriskes2024/evaluation)."
      ]
    },
    {
      "cell_type": "code",
      "execution_count": null,
      "metadata": {
        "id": "Uaeh23C5R1lG"
      },
      "outputs": [],
      "source": [
        "def download_messages_trial(task: str, token: str):\n",
        "    \"\"\" Allows you to download the trial data of the task.\n",
        "        Args:\n",
        "          task (str): task from which the data is to be retrieved\n",
        "          token (str): authentication token\n",
        "    \"\"\"\n",
        "\n",
        "    response = requests.get(ENDPOINT_DOWNLOAD_TRIAL.format(TASK=task, TOKEN=token))\n",
        "\n",
        "    if response.status_code != 200:\n",
        "        print(\"Trial - Status Code \" + task + \": \" + str(response.status_code) + \" - Error: \" + str(response.text))\n",
        "    else:\n",
        "      z = zipfile.ZipFile(io.BytesIO(response.content))\n",
        "      os.makedirs(\"./data/{task}/trial/\".format(task=task))\n",
        "      z.extractall(\"./data/{task}/trial/\".format(task=task))"
      ]
    },
    {
      "cell_type": "code",
      "execution_count": null,
      "metadata": {
        "id": "v09j7ChSD6c-"
      },
      "outputs": [],
      "source": [
        "def download_messages_train(task: str, token: str):\n",
        "    \"\"\" Allows you to download the train data of the task.\n",
        "        Args:\n",
        "          task (str): task from which the data is to be retrieved\n",
        "          token (str): authentication token\n",
        "    \"\"\"\n",
        "    response = requests.get(ENDPOINT_DOWNLOAD_TRAIN.format(TASK=task, TOKEN=token))\n",
        "\n",
        "    if response.status_code != 200:\n",
        "        print(\"Train - Status Code \" + task + \": \" + str(response.status_code) + \" - Error: \" + str(response.text))\n",
        "    else:\n",
        "      z = zipfile.ZipFile(io.BytesIO(response.content))\n",
        "      os.makedirs(\"./data/{task}/train/\".format(task=task),exist_ok=True)\n",
        "      z.extractall(\"./data/{task}/train/\".format(task=task))"
      ]
    },
    {
      "cell_type": "markdown",
      "metadata": {
        "id": "gMXuHLciXIO3"
      },
      "source": [
        "# Main"
      ]
    },
    {
      "cell_type": "code",
      "execution_count": null,
      "metadata": {
        "id": "GZrDpxNAS6-3"
      },
      "outputs": [],
      "source": [
        "def download_data(task: str, token: str):\n",
        "    # download_messages_trial(task, token)\n",
        "    download_messages_train(task, token)\n",
        "\n",
        "def get_post_data(task: str, token: str):\n",
        "    # Emissions Tracker Config\n",
        "    config = {\n",
        "        \"save_to_file\": True,\n",
        "        \"log_level\": \"WARNING\",\n",
        "        \"tracking_mode\": \"process\",\n",
        "        \"output_dir\": \".\",\n",
        "        \"allow_multiple_runs\": True\n",
        "    }\n",
        "    tracker = EmissionsTracker(**config)\n",
        "\n",
        "    number_runs = 3 # Max: 3\n",
        "\n",
        "    # Prediction period\n",
        "    client_task1_2 = Client_task1_2(task, token, number_runs, tracker)\n",
        "    client_task1_2.run_task1_2(5, 0.1)"
      ]
    },
    {
      "cell_type": "markdown",
      "metadata": {
        "id": "Ff6QgM3gErMm"
      },
      "source": [
        "Be careful! In this specific example we use the name of the task1 to do the get, knowing that it is the same data for both task 1 and task 2. In addition, the data upload is performed for both tasks."
      ]
    },
    {
      "cell_type": "code",
      "execution_count": null,
      "metadata": {
        "id": "aKMWQ5buS8OK"
      },
      "outputs": [],
      "source": [
        "if __name__ == '__main__':\n",
        "    download_data(\"task2\", TOKEN)\n",
        "    # get_post_data(\"task1\",TOKEN)"
      ]
    },
    {
      "cell_type": "code",
      "source": [
        "!pip install groq"
      ],
      "metadata": {
        "colab": {
          "base_uri": "https://localhost:8080/"
        },
        "id": "QHzds8XvsRCe",
        "outputId": "665cadfa-d196-465f-f563-124405af7b6d"
      },
      "execution_count": null,
      "outputs": [
        {
          "output_type": "stream",
          "name": "stdout",
          "text": [
            "Collecting groq\n",
            "  Downloading groq-0.22.0-py3-none-any.whl.metadata (15 kB)\n",
            "Requirement already satisfied: anyio<5,>=3.5.0 in /usr/local/lib/python3.11/dist-packages (from groq) (4.9.0)\n",
            "Requirement already satisfied: distro<2,>=1.7.0 in /usr/local/lib/python3.11/dist-packages (from groq) (1.9.0)\n",
            "Requirement already satisfied: httpx<1,>=0.23.0 in /usr/local/lib/python3.11/dist-packages (from groq) (0.27.2)\n",
            "Requirement already satisfied: pydantic<3,>=1.9.0 in /usr/local/lib/python3.11/dist-packages (from groq) (2.11.2)\n",
            "Requirement already satisfied: sniffio in /usr/local/lib/python3.11/dist-packages (from groq) (1.3.1)\n",
            "Requirement already satisfied: typing-extensions<5,>=4.10 in /usr/local/lib/python3.11/dist-packages (from groq) (4.13.1)\n",
            "Requirement already satisfied: idna>=2.8 in /usr/local/lib/python3.11/dist-packages (from anyio<5,>=3.5.0->groq) (3.10)\n",
            "Requirement already satisfied: certifi in /usr/local/lib/python3.11/dist-packages (from httpx<1,>=0.23.0->groq) (2025.1.31)\n",
            "Requirement already satisfied: httpcore==1.* in /usr/local/lib/python3.11/dist-packages (from httpx<1,>=0.23.0->groq) (1.0.7)\n",
            "Requirement already satisfied: h11<0.15,>=0.13 in /usr/local/lib/python3.11/dist-packages (from httpcore==1.*->httpx<1,>=0.23.0->groq) (0.14.0)\n",
            "Requirement already satisfied: annotated-types>=0.6.0 in /usr/local/lib/python3.11/dist-packages (from pydantic<3,>=1.9.0->groq) (0.7.0)\n",
            "Requirement already satisfied: pydantic-core==2.33.1 in /usr/local/lib/python3.11/dist-packages (from pydantic<3,>=1.9.0->groq) (2.33.1)\n",
            "Requirement already satisfied: typing-inspection>=0.4.0 in /usr/local/lib/python3.11/dist-packages (from pydantic<3,>=1.9.0->groq) (0.4.0)\n",
            "Downloading groq-0.22.0-py3-none-any.whl (126 kB)\n",
            "\u001b[?25l   \u001b[90m━━━━━━━━━━━━━━━━━━━━━━━━━━━━━━━━━━━━━━━━\u001b[0m \u001b[32m0.0/126.7 kB\u001b[0m \u001b[31m?\u001b[0m eta \u001b[36m-:--:--\u001b[0m\r\u001b[2K   \u001b[90m━━━━━━━━━━━━━━━━━━━━━━━━━━━━━━━━━━━━━━━━\u001b[0m \u001b[32m126.7/126.7 kB\u001b[0m \u001b[31m3.6 MB/s\u001b[0m eta \u001b[36m0:00:00\u001b[0m\n",
            "\u001b[?25hInstalling collected packages: groq\n",
            "Successfully installed groq-0.22.0\n"
          ]
        }
      ]
    },
    {
      "cell_type": "code",
      "source": [
        "from groq import Groq\n",
        "import re\n",
        "import os\n"
      ],
      "metadata": {
        "id": "iIwK0NEBtU6N"
      },
      "execution_count": null,
      "outputs": []
    },
    {
      "cell_type": "markdown",
      "source": [
        "# Task 1 (LLM)\n",
        "\n",
        "In this section, we use a large language model (LLaMA 3 with 70 billion parameters) to classify users based on the content of their messages. The model is prompted to assess whether there are signs of a gambling disorder in the user’s language. Each user is assigned a binary label:\n",
        "\n",
        "*   0 if there is no indication of a gambling disorder,\n",
        "\n",
        "*  1 if there is any indication suggesting the presence of such a disorder.\n",
        "\n"
      ],
      "metadata": {
        "id": "KG036x-xJwFU"
      }
    },
    {
      "cell_type": "code",
      "source": [
        "# Read the data\n",
        "import json\n",
        "import os\n",
        "import datetime\n",
        "from pathlib import Path\n",
        "import numpy as np\n",
        "import matplotlib.pyplot as plt\n",
        "import pandas as pd\n",
        "import seaborn as sns\n",
        "\n",
        "\n",
        "data_path = Path(\"data/\")\n",
        "\n",
        "annotation_path = data_path / \"task1\" / \"train\" / \"gold_task1.txt\"\n",
        "df = pd.read_csv(annotation_path)\n",
        "labels_df = df.rename(columns={\"Subject\": \"user\", \"Risk\": \"label\"})\n",
        "user_messages_path = data_path / \"task1\" / \"train\" / \"subjects\"\n",
        "user_messages = list(user_messages_path.glob(\"*.json\"))\n",
        "messages_users = [s.name.replace(\".json\", \"\") for s in user_messages]\n",
        "with open(user_messages[0], \"r\") as file:\n",
        "    messages = json.load(file)\n",
        "messages_df = pd.DataFrame(messages)\n",
        "messages_df[\"date\"] = pd.to_datetime(messages_df[\"date\"])\n",
        "messages_df.set_index(\"date\", inplace=True)\n",
        "all_messages = []\n",
        "for user_file in user_messages:\n",
        "    with open(user_file, \"r\") as file:\n",
        "        messages = json.load(file)\n",
        "    messages_df = pd.DataFrame(messages)\n",
        "    messages_df[\"date\"] = pd.to_datetime(messages_df[\"date\"], format=\"%Y-%m-%d %H:%M:%S%z\")\n",
        "    messages_df[\"user\"] = user_file.name.replace(\".json\", \"\")\n",
        "    all_messages.append(messages_df)\n",
        "\n",
        "all_messages_df = pd.concat(all_messages, ignore_index=True)\n",
        "all_messages_df.set_index(\"date\", inplace=True)"
      ],
      "metadata": {
        "id": "1J__t3jOPA0S"
      },
      "execution_count": null,
      "outputs": []
    },
    {
      "cell_type": "code",
      "source": [
        "# Create dictionary with every message in a list\n",
        "all_messages_df.head()\n",
        "\n",
        "user_messages = all_messages_df.groupby('user')['message'].apply(list).to_dict()\n"
      ],
      "metadata": {
        "id": "2An7jslpPQK7"
      },
      "execution_count": null,
      "outputs": []
    },
    {
      "cell_type": "code",
      "source": [
        "def predict_with_llama1(messages):\n",
        "    \"\"\"\n",
        "    Uses the LLaMA 3 70B language model via the Groq API to analyze a user's messages and determine\n",
        "    whether they show signs of gambling disorder.\n",
        "\n",
        "    The function sends a prompt to the model that includes specific criteria for identifying signs\n",
        "    of compulsive gambling behavior (e.g., frequent references to betting, inability to stop,\n",
        "    financial loss, etc.).\n",
        "\n",
        "    Based on the model's interpretation, it returns:\n",
        "    - 1 if there are multiple clear and direct indications of gambling addiction,\n",
        "    - 0 if there is insufficient or no strong evidence of such behavior.\n",
        "\n",
        "    Parameters:\n",
        "        messages (str): A string containing one or more user messages to be evaluated.\n",
        "\n",
        "    Returns:\n",
        "        int: 1 if gambling disorder is detected, 0 otherwise.\n",
        "    \"\"\"\n",
        "    client = Groq(\n",
        "        api_key=os.getenv(\"GROQ_API_KEY\"),\n",
        "    )\n",
        "\n",
        "    prompt = f\"\"\"\n",
        "    A continuación se te dará una serie de mensajes escritos por una persona. Tu tarea es analizar el contenido y determinar si hay indicios claros y repetidos de comportamientos relacionados con la ludopatía (adicción al juego).\n",
        "\n",
        "    Entendemos por indicios claros:\n",
        "    - Referencias frecuentes a apuestas, juegos de azar, o trading compulsivo.\n",
        "    - Expresiones de pérdida de control, ansiedad por jugar, o necesidad urgente de recuperar dinero.\n",
        "    - Menciones a pérdidas económicas significativas por estos juegos o conductas similares.\n",
        "    - Dificultad para dejar de jugar o pensar en el juego constantemente.\n",
        "\n",
        "    No debes interpretar todos los comentarios sobre apostar, jugar a juegos de azar o realizar trading como muestra de adicción ya que el objetivo es únicamente detectar los casos de ludopatía, adicción y pérdida de control.\n",
        "\n",
        "    Tu respuesta debe ser exclusivamente un número:\n",
        "    - 1 si hay varios indicios claros y directos de ludopatía.\n",
        "    - 0 si no hay suficientes evidencias claras (incluso si hay menciones vagas o aisladas).\n",
        "\n",
        "    Ahora evalúa los siguientes mensajes:\n",
        "    {messages}\n",
        "    \"\"\"\n",
        "\n",
        "    chat_completion = client.chat.completions.create(\n",
        "        messages=[\n",
        "            {\n",
        "                \"role\": \"user\",\n",
        "                \"content\": prompt,\n",
        "            }\n",
        "        ],\n",
        "        model=\"llama3-70b-8192\",\n",
        "    )\n",
        "\n",
        "    response = int(chat_completion.choices[0].message.content)\n",
        "\n",
        "    return response\n"
      ],
      "metadata": {
        "id": "Pmi2sPWlR2Bp"
      },
      "execution_count": null,
      "outputs": []
    },
    {
      "cell_type": "markdown",
      "source": [
        "Now, we iterate over every message, call the predictive function and save the result in a new dataframe."
      ],
      "metadata": {
        "id": "3YaoVCAM7BXa"
      }
    },
    {
      "cell_type": "code",
      "source": [
        "pred_rows = []\n",
        "for i, user in enumerate(sorted(user_messages.keys())):\n",
        "    print(f\"Iteration {i + 1} of 350\")\n",
        "    label = predict_with_llama1(user_messages[user])\n",
        "    try:\n",
        "        pred_rows.append({\n",
        "            'user': user,\n",
        "            'label': label,\n",
        "        })\n",
        "\n",
        "        if i % 10 == 0 and i != 0:\n",
        "            temp_df = pd.DataFrame(pred_rows)\n",
        "            temp_df.to_csv(\"predictions_backup2.csv\", index=False)\n",
        "            print(f\"Saved up to iteration {i}\")\n",
        "\n",
        "    except Exception as e:\n",
        "        print(f\"Error while processing: {e}\")\n",
        "\n",
        "predictions = pd.DataFrame(pred_rows)\n",
        "\n",
        "predictions.to_csv(\"predictions_final2.csv\", index=False)"
      ],
      "metadata": {
        "id": "yrxSfi1XRkuP"
      },
      "execution_count": null,
      "outputs": []
    },
    {
      "cell_type": "markdown",
      "source": [
        "Finally, run the comparisons"
      ],
      "metadata": {
        "id": "XnY6YIqW7LEY"
      }
    },
    {
      "cell_type": "code",
      "source": [
        "import pandas as pd\n",
        "from sklearn.metrics import accuracy_score, confusion_matrix, classification_report\n",
        "\n",
        "df_pred = pd.read_csv('./predictions_task1.csv')  # Archivo con las predicciones\n",
        "\n",
        "\n",
        "df = pd.merge(labels_df, df_pred, on='user')\n",
        "\n",
        "accuracy = accuracy_score(df['label_x'], df['label_y'])  # Comparar las columnas de etiquetas\n",
        "conf_matrix = confusion_matrix(df['label_x'], df['label_y'])\n",
        "class_report = classification_report(df['label_x'], df['label_y'])\n",
        "\n",
        "print(\"Accuracy:\", accuracy)\n",
        "print(\"\\nConfusion matrix:\\n\", conf_matrix)\n",
        "print(\"\\nReport:\\n\", class_report)\n",
        "\n",
        "TP, FP, FN, TN = conf_matrix.ravel()\n",
        "\n",
        "true_positive_rate = TP / (TP + FN)\n",
        "false_positive_rate = FP / (FP + TN)\n",
        "true_negative_rate = TN / (TN + FP)\n",
        "false_negative_rate = FN / (FN + TP)\n",
        "\n",
        "print(f\"True Positive Rate (TPR): {true_positive_rate:.2f}\")\n",
        "print(f\"False Positive Rate (FPR): {false_positive_rate:.2f}\")\n",
        "print(f\"True Negative Rate (TNR): {true_negative_rate:.2f}\")\n",
        "print(f\"False Negative Rate (FNR): {false_negative_rate:.2f}\")\n"
      ],
      "metadata": {
        "colab": {
          "base_uri": "https://localhost:8080/"
        },
        "id": "iR2sZS8jr4lp",
        "outputId": "5ba74f07-adf6-4340-8af6-e597826fe0b7"
      },
      "execution_count": null,
      "outputs": [
        {
          "output_type": "stream",
          "name": "stdout",
          "text": [
            "Accuracy: 0.5485714285714286\n",
            "\n",
            "Confusion matrix:\n",
            " [[143  35]\n",
            " [123  49]]\n",
            "\n",
            "Report:\n",
            "               precision    recall  f1-score   support\n",
            "\n",
            "           0       0.54      0.80      0.64       178\n",
            "           1       0.58      0.28      0.38       172\n",
            "\n",
            "    accuracy                           0.55       350\n",
            "   macro avg       0.56      0.54      0.51       350\n",
            "weighted avg       0.56      0.55      0.52       350\n",
            "\n",
            "True Positive Rate (TPR): 0.54\n",
            "False Positive Rate (FPR): 0.42\n",
            "True Negative Rate (TNR): 0.58\n",
            "False Negative Rate (FNR): 0.46\n"
          ]
        }
      ]
    },
    {
      "cell_type": "markdown",
      "source": [
        "The model's performance, with an accuracy of 55%, is relatively low, indicating that it struggles to make reliable predictions. The confusion matrix reveals that while the model is fairly good at identifying negative cases (with a True Negative Rate of 58%), it has significant difficulty in detecting positive cases. The True Positive Rate (TPR) is only 28%, meaning the model fails to identify a large portion of individuals who may actually have gambling disorders. This is further reflected in the F1-score for class 1 (gambling disorder), which is quite low at 0.38.\n",
        "\n",
        "This shows that the nature of gambling disorder might be complex, with subtle and diverse linguistic cues that are difficult for a pre-trained language model to detect.\n"
      ],
      "metadata": {
        "id": "rfh2gC4s8AJi"
      }
    },
    {
      "cell_type": "markdown",
      "source": [
        "# Task 2\n",
        "\n",
        "In this section, we use a large language model (LLaMA 3 with 70 billion parameters) to classify users based on the content of their messages, specifically identifying the type of gambling disorder behavior they may exhibit. The model is prompted to assess the user's language and categorize their behavior into one of four specific types of gambling addiction:\n",
        "\n",
        "* betting : Addiction to traditional betting activities such as sports betting, horse racing, or casino games (physical or online).  \n",
        "* lootboxes : Addiction to purchasing random virtual rewards in video games, such as loot boxes or in-game item purchases.  \n",
        "* onlinegaming : Addiction to online multiplayer video games, where compulsive playing occurs without direct monetary transactions.  \n",
        "* trading : Addiction to financial asset trading (cryptocurrencies, stocks, forex), characterized by compulsive, high-risk trading behavior.\n",
        "\n",
        "Each user's behavior is classified based on these categories, with the model assigning one of the four labels to their messages.\n"
      ],
      "metadata": {
        "id": "Yoqu7opKJ084"
      }
    },
    {
      "cell_type": "code",
      "source": [
        "# load the messages\n",
        "merged_df = all_messages_df.merge(labels_df, on=\"user\", how=\"left\")\n",
        "user_messages2 = merged_df.groupby('user')['message'].apply(list).to_dict()"
      ],
      "metadata": {
        "id": "JeegD6iRJ2DJ"
      },
      "execution_count": null,
      "outputs": []
    },
    {
      "cell_type": "markdown",
      "source": [
        "LLM Function"
      ],
      "metadata": {
        "id": "61T8qLV0-JxO"
      }
    },
    {
      "cell_type": "code",
      "source": [
        "def predict_with_llama2(messages):\n",
        "    \"\"\"\n",
        "    Uses the LLaMA 3 70B language model via the Groq API to analyze a user's messages and classify\n",
        "    their gambling disorder behavior into specific categories.\n",
        "\n",
        "    The function classifies the user's behavior into one of the following categories based on the\n",
        "    content of their messages:\n",
        "    - 'betting': Addiction to traditional betting, such as sports betting, horse racing, or casino\n",
        "      games (physical or online).\n",
        "    - 'onlinegaming': Addiction to online multiplayer video games, where compulsive playing occurs\n",
        "      without direct monetary transactions.\n",
        "    - 'lootboxes': Addiction to random reward systems in video games, where users purchase \"boxes\"\n",
        "      for virtual items, similar to slot machines.\n",
        "    - 'trading': Addiction to financial asset trading (cryptocurrencies, stocks, forex), involving\n",
        "      compulsive trading behavior and high-risk decisions for immediate gratification.\n",
        "\n",
        "    The function sends the messages to the LLaMA model for classification and returns the corresponding\n",
        "    category. The model's response will be one of the following:\n",
        "    - 'betting'\n",
        "    - 'onlinegaming'\n",
        "    - 'lootboxes'\n",
        "    - 'trading'\n",
        "\n",
        "    Parameters:\n",
        "        messages (str): A string containing one or more user messages to be analyzed and classified.\n",
        "\n",
        "    Returns:\n",
        "        str: The category representing the user's gambling disorder behavior.\n",
        "    \"\"\"\n",
        "\n",
        "    client = Groq(\n",
        "        api_key=os.getenv(\"GROQ_API_KEY\"),\n",
        "    )\n",
        "\n",
        "    prompt = f\"\"\"\n",
        "    A continuación se te dará una serie de mensajes escritos por una persona que sufre algún tipo de ludopatía (adicción al juego). El objetivo es clasificar la condición según el tipo específico de comportamiento adictivo. Existen las siguientes categorías:\n",
        "\n",
        "    - 'betting': Hace referencia a la adicción a las apuestas tradicionales, como las deportivas, carreras de caballos o juegos de azar en casinos físicos o en línea (ruleta, póker, etc.).\n",
        "    - 'onlinegaming': Se refiere a la adicción a los videojuegos en línea multijugador, donde la persona juega compulsivamente sin que haya necesariamente una transacción monetaria directa.\n",
        "    - 'lootboxes': Es la adicción a sistemas de recompensas aleatorias dentro de videojuegos, donde se compra una \"caja\" con dinero real para obtener ítems virtuales, generando un comportamiento similar al de las máquinas tragamonedas.\n",
        "    - 'trading': Engloba la adicción al comercio de activos financieros (como criptomonedas, acciones o forex), en la que el individuo realiza operaciones compulsivas buscando gratificación inmediata, asumiendo altos riesgos.\n",
        "\n",
        "    Tu respuesta debe ser exclusivamente una de estas palabras, sin frases adicionales, sin comillas y sin explicaciones:\n",
        "\n",
        "    betting\n",
        "    onlinegaming\n",
        "    lootboxes\n",
        "    trading\n",
        "\n",
        "    Ahora evalúa según los siguientes mensajes:\n",
        "    {messages}\n",
        "    \"\"\"\n",
        "\n",
        "    chat_completion = client.chat.completions.create(\n",
        "        messages=[\n",
        "            {\n",
        "                \"role\": \"user\",\n",
        "                \"content\": prompt,\n",
        "            }\n",
        "        ],\n",
        "        model=\"llama3-70b-8192\",\n",
        "    )\n",
        "\n",
        "    response = chat_completion.choices[0].message.content\n",
        "\n",
        "    return response"
      ],
      "metadata": {
        "id": "yHdMftP_9ckd"
      },
      "execution_count": null,
      "outputs": []
    },
    {
      "cell_type": "markdown",
      "source": [
        "Iterate over every message"
      ],
      "metadata": {
        "id": "r2RjoAat-O8K"
      }
    },
    {
      "cell_type": "code",
      "source": [
        "pred_rows = []\n",
        "for i, user in enumerate(sorted(user_messages2.keys())):\n",
        "    label = predict_with_llama2(user_messages2[user])\n",
        "    try:\n",
        "        pred_rows.append({\n",
        "            'user': user,\n",
        "            'label': label,\n",
        "        })\n",
        "\n",
        "        if i % 10 == 0 and i != 0:\n",
        "            temp_df = pd.DataFrame(pred_rows)\n",
        "            temp_df.to_csv(\"predictions_backup_task2.csv\", index=False)\n",
        "            print(f\"Saved up to iteration {i}\")\n",
        "\n",
        "    except Exception as e:\n",
        "        print(f\"Error while processing: {e}\")\n",
        "\n",
        "predictions = pd.DataFrame(pred_rows)\n",
        "\n",
        "predictions.to_csv(\"predictions_task2.csv\", index=False)"
      ],
      "metadata": {
        "id": "8V-K6WKtLfB_",
        "collapsed": true
      },
      "execution_count": null,
      "outputs": []
    },
    {
      "cell_type": "markdown",
      "source": [
        "Load the actual results for task 2."
      ],
      "metadata": {
        "id": "cpikVjra8cbD"
      }
    },
    {
      "cell_type": "code",
      "source": [
        "annotation_path = data_path / \"task2\" / \"train\" / \"gold_task2.txt\"\n",
        "df = pd.read_csv(annotation_path)\n",
        "annotation_users = df.Subject.values\n",
        "df.head()\n",
        "\n",
        "labels_df = df.rename(columns={\"Subject\": \"user\", \"Type\": \"label\"})\n",
        "labels_df.head()\n"
      ],
      "metadata": {
        "id": "KIT0ZVGILJ-t",
        "outputId": "5d3de20f-751d-4859-a5a6-fcb42a71bbf2",
        "colab": {
          "base_uri": "https://localhost:8080/",
          "height": 206
        }
      },
      "execution_count": null,
      "outputs": [
        {
          "output_type": "execute_result",
          "data": {
            "text/plain": [
              "       user    label\n",
              "0  user1036  betting\n",
              "1  user1037  betting\n",
              "2  user1150  betting\n",
              "3   user124  betting\n",
              "4  user1301  betting"
            ],
            "text/html": [
              "\n",
              "  <div id=\"df-6b96fd6a-1e32-42b7-bca8-07629727845b\" class=\"colab-df-container\">\n",
              "    <div>\n",
              "<style scoped>\n",
              "    .dataframe tbody tr th:only-of-type {\n",
              "        vertical-align: middle;\n",
              "    }\n",
              "\n",
              "    .dataframe tbody tr th {\n",
              "        vertical-align: top;\n",
              "    }\n",
              "\n",
              "    .dataframe thead th {\n",
              "        text-align: right;\n",
              "    }\n",
              "</style>\n",
              "<table border=\"1\" class=\"dataframe\">\n",
              "  <thead>\n",
              "    <tr style=\"text-align: right;\">\n",
              "      <th></th>\n",
              "      <th>user</th>\n",
              "      <th>label</th>\n",
              "    </tr>\n",
              "  </thead>\n",
              "  <tbody>\n",
              "    <tr>\n",
              "      <th>0</th>\n",
              "      <td>user1036</td>\n",
              "      <td>betting</td>\n",
              "    </tr>\n",
              "    <tr>\n",
              "      <th>1</th>\n",
              "      <td>user1037</td>\n",
              "      <td>betting</td>\n",
              "    </tr>\n",
              "    <tr>\n",
              "      <th>2</th>\n",
              "      <td>user1150</td>\n",
              "      <td>betting</td>\n",
              "    </tr>\n",
              "    <tr>\n",
              "      <th>3</th>\n",
              "      <td>user124</td>\n",
              "      <td>betting</td>\n",
              "    </tr>\n",
              "    <tr>\n",
              "      <th>4</th>\n",
              "      <td>user1301</td>\n",
              "      <td>betting</td>\n",
              "    </tr>\n",
              "  </tbody>\n",
              "</table>\n",
              "</div>\n",
              "    <div class=\"colab-df-buttons\">\n",
              "\n",
              "  <div class=\"colab-df-container\">\n",
              "    <button class=\"colab-df-convert\" onclick=\"convertToInteractive('df-6b96fd6a-1e32-42b7-bca8-07629727845b')\"\n",
              "            title=\"Convert this dataframe to an interactive table.\"\n",
              "            style=\"display:none;\">\n",
              "\n",
              "  <svg xmlns=\"http://www.w3.org/2000/svg\" height=\"24px\" viewBox=\"0 -960 960 960\">\n",
              "    <path d=\"M120-120v-720h720v720H120Zm60-500h600v-160H180v160Zm220 220h160v-160H400v160Zm0 220h160v-160H400v160ZM180-400h160v-160H180v160Zm440 0h160v-160H620v160ZM180-180h160v-160H180v160Zm440 0h160v-160H620v160Z\"/>\n",
              "  </svg>\n",
              "    </button>\n",
              "\n",
              "  <style>\n",
              "    .colab-df-container {\n",
              "      display:flex;\n",
              "      gap: 12px;\n",
              "    }\n",
              "\n",
              "    .colab-df-convert {\n",
              "      background-color: #E8F0FE;\n",
              "      border: none;\n",
              "      border-radius: 50%;\n",
              "      cursor: pointer;\n",
              "      display: none;\n",
              "      fill: #1967D2;\n",
              "      height: 32px;\n",
              "      padding: 0 0 0 0;\n",
              "      width: 32px;\n",
              "    }\n",
              "\n",
              "    .colab-df-convert:hover {\n",
              "      background-color: #E2EBFA;\n",
              "      box-shadow: 0px 1px 2px rgba(60, 64, 67, 0.3), 0px 1px 3px 1px rgba(60, 64, 67, 0.15);\n",
              "      fill: #174EA6;\n",
              "    }\n",
              "\n",
              "    .colab-df-buttons div {\n",
              "      margin-bottom: 4px;\n",
              "    }\n",
              "\n",
              "    [theme=dark] .colab-df-convert {\n",
              "      background-color: #3B4455;\n",
              "      fill: #D2E3FC;\n",
              "    }\n",
              "\n",
              "    [theme=dark] .colab-df-convert:hover {\n",
              "      background-color: #434B5C;\n",
              "      box-shadow: 0px 1px 3px 1px rgba(0, 0, 0, 0.15);\n",
              "      filter: drop-shadow(0px 1px 2px rgba(0, 0, 0, 0.3));\n",
              "      fill: #FFFFFF;\n",
              "    }\n",
              "  </style>\n",
              "\n",
              "    <script>\n",
              "      const buttonEl =\n",
              "        document.querySelector('#df-6b96fd6a-1e32-42b7-bca8-07629727845b button.colab-df-convert');\n",
              "      buttonEl.style.display =\n",
              "        google.colab.kernel.accessAllowed ? 'block' : 'none';\n",
              "\n",
              "      async function convertToInteractive(key) {\n",
              "        const element = document.querySelector('#df-6b96fd6a-1e32-42b7-bca8-07629727845b');\n",
              "        const dataTable =\n",
              "          await google.colab.kernel.invokeFunction('convertToInteractive',\n",
              "                                                    [key], {});\n",
              "        if (!dataTable) return;\n",
              "\n",
              "        const docLinkHtml = 'Like what you see? Visit the ' +\n",
              "          '<a target=\"_blank\" href=https://colab.research.google.com/notebooks/data_table.ipynb>data table notebook</a>'\n",
              "          + ' to learn more about interactive tables.';\n",
              "        element.innerHTML = '';\n",
              "        dataTable['output_type'] = 'display_data';\n",
              "        await google.colab.output.renderOutput(dataTable, element);\n",
              "        const docLink = document.createElement('div');\n",
              "        docLink.innerHTML = docLinkHtml;\n",
              "        element.appendChild(docLink);\n",
              "      }\n",
              "    </script>\n",
              "  </div>\n",
              "\n",
              "\n",
              "<div id=\"df-b6101b0f-b37c-499c-a20b-610abc084a74\">\n",
              "  <button class=\"colab-df-quickchart\" onclick=\"quickchart('df-b6101b0f-b37c-499c-a20b-610abc084a74')\"\n",
              "            title=\"Suggest charts\"\n",
              "            style=\"display:none;\">\n",
              "\n",
              "<svg xmlns=\"http://www.w3.org/2000/svg\" height=\"24px\"viewBox=\"0 0 24 24\"\n",
              "     width=\"24px\">\n",
              "    <g>\n",
              "        <path d=\"M19 3H5c-1.1 0-2 .9-2 2v14c0 1.1.9 2 2 2h14c1.1 0 2-.9 2-2V5c0-1.1-.9-2-2-2zM9 17H7v-7h2v7zm4 0h-2V7h2v10zm4 0h-2v-4h2v4z\"/>\n",
              "    </g>\n",
              "</svg>\n",
              "  </button>\n",
              "\n",
              "<style>\n",
              "  .colab-df-quickchart {\n",
              "      --bg-color: #E8F0FE;\n",
              "      --fill-color: #1967D2;\n",
              "      --hover-bg-color: #E2EBFA;\n",
              "      --hover-fill-color: #174EA6;\n",
              "      --disabled-fill-color: #AAA;\n",
              "      --disabled-bg-color: #DDD;\n",
              "  }\n",
              "\n",
              "  [theme=dark] .colab-df-quickchart {\n",
              "      --bg-color: #3B4455;\n",
              "      --fill-color: #D2E3FC;\n",
              "      --hover-bg-color: #434B5C;\n",
              "      --hover-fill-color: #FFFFFF;\n",
              "      --disabled-bg-color: #3B4455;\n",
              "      --disabled-fill-color: #666;\n",
              "  }\n",
              "\n",
              "  .colab-df-quickchart {\n",
              "    background-color: var(--bg-color);\n",
              "    border: none;\n",
              "    border-radius: 50%;\n",
              "    cursor: pointer;\n",
              "    display: none;\n",
              "    fill: var(--fill-color);\n",
              "    height: 32px;\n",
              "    padding: 0;\n",
              "    width: 32px;\n",
              "  }\n",
              "\n",
              "  .colab-df-quickchart:hover {\n",
              "    background-color: var(--hover-bg-color);\n",
              "    box-shadow: 0 1px 2px rgba(60, 64, 67, 0.3), 0 1px 3px 1px rgba(60, 64, 67, 0.15);\n",
              "    fill: var(--button-hover-fill-color);\n",
              "  }\n",
              "\n",
              "  .colab-df-quickchart-complete:disabled,\n",
              "  .colab-df-quickchart-complete:disabled:hover {\n",
              "    background-color: var(--disabled-bg-color);\n",
              "    fill: var(--disabled-fill-color);\n",
              "    box-shadow: none;\n",
              "  }\n",
              "\n",
              "  .colab-df-spinner {\n",
              "    border: 2px solid var(--fill-color);\n",
              "    border-color: transparent;\n",
              "    border-bottom-color: var(--fill-color);\n",
              "    animation:\n",
              "      spin 1s steps(1) infinite;\n",
              "  }\n",
              "\n",
              "  @keyframes spin {\n",
              "    0% {\n",
              "      border-color: transparent;\n",
              "      border-bottom-color: var(--fill-color);\n",
              "      border-left-color: var(--fill-color);\n",
              "    }\n",
              "    20% {\n",
              "      border-color: transparent;\n",
              "      border-left-color: var(--fill-color);\n",
              "      border-top-color: var(--fill-color);\n",
              "    }\n",
              "    30% {\n",
              "      border-color: transparent;\n",
              "      border-left-color: var(--fill-color);\n",
              "      border-top-color: var(--fill-color);\n",
              "      border-right-color: var(--fill-color);\n",
              "    }\n",
              "    40% {\n",
              "      border-color: transparent;\n",
              "      border-right-color: var(--fill-color);\n",
              "      border-top-color: var(--fill-color);\n",
              "    }\n",
              "    60% {\n",
              "      border-color: transparent;\n",
              "      border-right-color: var(--fill-color);\n",
              "    }\n",
              "    80% {\n",
              "      border-color: transparent;\n",
              "      border-right-color: var(--fill-color);\n",
              "      border-bottom-color: var(--fill-color);\n",
              "    }\n",
              "    90% {\n",
              "      border-color: transparent;\n",
              "      border-bottom-color: var(--fill-color);\n",
              "    }\n",
              "  }\n",
              "</style>\n",
              "\n",
              "  <script>\n",
              "    async function quickchart(key) {\n",
              "      const quickchartButtonEl =\n",
              "        document.querySelector('#' + key + ' button');\n",
              "      quickchartButtonEl.disabled = true;  // To prevent multiple clicks.\n",
              "      quickchartButtonEl.classList.add('colab-df-spinner');\n",
              "      try {\n",
              "        const charts = await google.colab.kernel.invokeFunction(\n",
              "            'suggestCharts', [key], {});\n",
              "      } catch (error) {\n",
              "        console.error('Error during call to suggestCharts:', error);\n",
              "      }\n",
              "      quickchartButtonEl.classList.remove('colab-df-spinner');\n",
              "      quickchartButtonEl.classList.add('colab-df-quickchart-complete');\n",
              "    }\n",
              "    (() => {\n",
              "      let quickchartButtonEl =\n",
              "        document.querySelector('#df-b6101b0f-b37c-499c-a20b-610abc084a74 button');\n",
              "      quickchartButtonEl.style.display =\n",
              "        google.colab.kernel.accessAllowed ? 'block' : 'none';\n",
              "    })();\n",
              "  </script>\n",
              "</div>\n",
              "\n",
              "    </div>\n",
              "  </div>\n"
            ],
            "application/vnd.google.colaboratory.intrinsic+json": {
              "type": "dataframe",
              "variable_name": "labels_df",
              "summary": "{\n  \"name\": \"labels_df\",\n  \"rows\": 350,\n  \"fields\": [\n    {\n      \"column\": \"user\",\n      \"properties\": {\n        \"dtype\": \"string\",\n        \"num_unique_values\": 350,\n        \"samples\": [\n          \"user16970\",\n          \"user28500\",\n          \"user13055\"\n        ],\n        \"semantic_type\": \"\",\n        \"description\": \"\"\n      }\n    },\n    {\n      \"column\": \"label\",\n      \"properties\": {\n        \"dtype\": \"category\",\n        \"num_unique_values\": 4,\n        \"samples\": [\n          \"onlinegaming\",\n          \"lootboxes\",\n          \"betting\"\n        ],\n        \"semantic_type\": \"\",\n        \"description\": \"\"\n      }\n    }\n  ]\n}"
            }
          },
          "metadata": {},
          "execution_count": 18
        }
      ]
    },
    {
      "cell_type": "markdown",
      "source": [
        "Evaluate the result"
      ],
      "metadata": {
        "id": "36eZ6Kmo-VFn"
      }
    },
    {
      "cell_type": "code",
      "source": [
        "import pandas as pd\n",
        "from sklearn.metrics import accuracy_score, confusion_matrix, classification_report\n",
        "\n",
        "df_pred = pd.read_csv('./predictions_task2.csv')  # Archivo con las predicciones\n",
        "\n",
        "\n",
        "df = pd.merge(labels_df, df_pred, on='user')\n",
        "\n",
        "accuracy = accuracy_score(df['label_x'], df['label_y'])  # Comparar las columnas de etiquetas\n",
        "conf_matrix = confusion_matrix(df['label_x'], df['label_y'])\n",
        "class_report = classification_report(df['label_x'], df['label_y'])\n",
        "\n",
        "print(\"Accuracy:\", accuracy)\n",
        "print(\"\\nConfusion matrix:\\n\", conf_matrix)\n",
        "print(\"\\nReport:\\n\", class_report)\n"
      ],
      "metadata": {
        "colab": {
          "base_uri": "https://localhost:8080/"
        },
        "id": "RnZWoi2rKlmz",
        "outputId": "b7ec280c-7e53-433d-9942-82d140a5a795"
      },
      "execution_count": null,
      "outputs": [
        {
          "output_type": "stream",
          "name": "stdout",
          "text": [
            "Accuracy: 0.6862170087976539\n",
            "\n",
            "Confusion matrix:\n",
            " [[ 85   0   0   0]\n",
            " [  8   8  10   0]\n",
            " [ 86   3  15   0]\n",
            " [  0   0   0 126]]\n",
            "\n",
            "Report:\n",
            "               precision    recall  f1-score   support\n",
            "\n",
            "     betting       0.47      1.00      0.64        85\n",
            "   lootboxes       0.73      0.31      0.43        26\n",
            "onlinegaming       0.60      0.14      0.23       104\n",
            "     trading       1.00      1.00      1.00       126\n",
            "\n",
            "    accuracy                           0.69       341\n",
            "   macro avg       0.70      0.61      0.58       341\n",
            "weighted avg       0.73      0.69      0.63       341\n",
            "\n"
          ]
        }
      ]
    },
    {
      "cell_type": "markdown",
      "source": [
        "The model's performance in Task 2, with an accuracy of 69%, is relatively stronger than in Task 1 but still exhibits notable room for improvement. The confusion matrix highlights that the model is particularly effective at identifying the \"trading\" category, with a perfect recall of 1.00 and precision of 1.00, which indicates the model can consistently classify this behavior. However, for the other categories, the performance is more uneven.\n",
        "\n",
        "Specifically, the \"betting\" class shows a high recall of 1.00, meaning the model can accurately detect all instances of this behavior, but it has low precision (0.47), which suggests that many of the predictions for \"betting\" are false positives.\n",
        "\n",
        "Again, these results show that it is hard for a pre-trained model to detect every language cue within the messages."
      ],
      "metadata": {
        "id": "wRk78FO78wds"
      }
    }
  ],
  "metadata": {
    "colab": {
      "provenance": []
    },
    "gpuClass": "standard",
    "kernelspec": {
      "display_name": "Python 3",
      "name": "python3"
    },
    "language_info": {
      "codemirror_mode": {
        "name": "ipython",
        "version": 3
      },
      "file_extension": ".py",
      "mimetype": "text/x-python",
      "name": "python",
      "nbconvert_exporter": "python",
      "pygments_lexer": "ipython3",
      "version": "3.10.11"
    }
  },
  "nbformat": 4,
  "nbformat_minor": 0
}